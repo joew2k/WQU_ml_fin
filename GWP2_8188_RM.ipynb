{
  "cells": [
    {
      "cell_type": "markdown",
      "metadata": {
        "id": "view-in-github",
        "colab_type": "text"
      },
      "source": [
        "<a href=\"https://colab.research.google.com/github/joew2k/WQU_ml_fin/blob/main/GWP2_8188_RM.ipynb\" target=\"_parent\"><img src=\"https://colab.research.google.com/assets/colab-badge.svg\" alt=\"Open In Colab\"/></a>"
      ]
    },
    {
      "cell_type": "markdown",
      "metadata": {
        "id": "f6obuy3IIwsK"
      },
      "source": [
        "<h1 style='text-align: center;'>\n",
        "GWP_2 : Methodology Description And Model Development"
      ]
    },
    {
      "cell_type": "markdown",
      "metadata": {
        "id": "7bc0rBkcIwsO"
      },
      "source": [
        "<p style='text-align: justify;'>\n",
        "Building upon the foundation laid in GWP1, this project explores the application of Hidden Markov Models (HMMs) in understanding and predicting crude oil price movements. Financial markets exhibit regime shifts, where asset prices transition between different market conditions such as bull, bear, and stagnant phases. HMMs provide a probabilistic framework to model these transitions, helping analysts uncover hidden patterns in price dynamics.  \n",
        "    \n",
        "<p style='text-align: justify;'>\n",
        "This project focuses on developing a structured methodology for implementing HMMs in financial modeling. By leveraging techniques such as Bayesian inference, state estimation, and probabilistic learning, we aim to detect underlying market regimes and improve the accuracy of oil price forecasting.  \n",
        "  \n",
        "<p style='text-align: justify;'>\n",
        "Through this work, we bridge the gap between theory and practice, combining statistical modeling, algorithm development, and financial interpretation to extract meaningful insights from market data.  \n",
        "    "
      ]
    },
    {
      "cell_type": "markdown",
      "metadata": {
        "id": "NYpQLUZ1IwsP"
      },
      "source": [
        "## Step 1: Implementing Hidden Markov Model Algorithms  "
      ]
    },
    {
      "cell_type": "markdown",
      "metadata": {
        "id": "_AnZievCIwsP"
      },
      "source": [
        "### Student A: Forward-Backward Algorithm  \n",
        "  \n",
        "<p style='text-align: justify;'>\n",
        "The Forward Algorithm calculates the probability of a sequence of observations given an HMM by iteratively computing the probability of partial sequences. The Backward Algorithm computes probabilities in reverse to ensure all paths are considered. Together, they help compute the likelihood of an observed sequence and are used for state estimation in HMMs.  \n",
        "  \n",
        "- **Forward Probability:**\n",
        "\\begin{equation}\n",
        "\\alpha _t (j) = P ( O_1, O_2, ..., O_t, X_t = S_j | \\lambda )\n",
        "\\end{equation}  \n",
        "\n",
        "where, $\\alpha _t (j)$ is the probability of observing the sequence up to time $t$ and being in state $S_j$.  \n",
        "  \n",
        "\n",
        "- **Backward Probability:**  \n",
        "\\begin{equation}\n",
        "\\beta _t (j) = P ( O_{t+1}, O_{t+2}, ..., O_T | X_t = S_j , \\lambda )\n",
        "\\end{equation}  \n",
        "\n",
        "where, $\\beta _t (j)$ is the probability of observing future outputs given state $S_j$ at time $t$.  \n",
        "  \n",
        "\n"
      ]
    },
    {
      "cell_type": "markdown",
      "metadata": {
        "id": "VWVjCnzsIwsQ"
      },
      "source": [
        "##### PseudoCode  \n",
        "\n",
        "    Class ForwardBackwardHMM:\n",
        "        Initialize(states, observations, transition_matrix, emission_matrix, initial_prob)\n",
        "            Store states, observations, transition probabilities (A),\n",
        "            emission probabilities (B), and initial probabilities (pi)\n",
        "\n",
        "        Method forward(obs_seq):\n",
        "            T ← length of obs_seq\n",
        "            N ← number of states\n",
        "            Create matrix alpha of size (T, N) initialized to zeros\n",
        "\n",
        "            # Initialization Step\n",
        "            For each state j:\n",
        "                alpha[0, j] ← pi[j] * B[j, obs_seq[0]]\n",
        "\n",
        "            # Recursion Step\n",
        "            For each time step t from 1 to T-1:\n",
        "                For each state j:\n",
        "                    alpha[t, j] ← sum(alpha[t-1] * A[:, j]) * B[j, obs_seq[t]]\n",
        "\n",
        "            Return alpha\n",
        "\n",
        "        Method backward(obs_seq):\n",
        "            T ← length of obs_seq\n",
        "            N ← number of states\n",
        "            Create matrix beta of size (T, N) initialized to zeros\n",
        "\n",
        "            # Initialization Step\n",
        "            For each state j:\n",
        "                beta[T-1, j] ← 1\n",
        "\n",
        "            # Recursion Step\n",
        "            For each time step t from T-2 down to 0:\n",
        "                For each state i:\n",
        "                    beta[t, i] ← sum(A[i, :] * B[:, obs_seq[t+1]] * beta[t+1, :])\n",
        "\n",
        "            Return beta\n"
      ]
    },
    {
      "cell_type": "markdown",
      "metadata": {
        "id": "hXUf-fieIwsR"
      },
      "source": [
        "##### Toy Example  \n",
        "\n",
        "    States = ['Bull', 'Bear']\n",
        "    Observations = ['Up', 'Down']\n",
        "\n",
        "    A = [[0.7, 0.3], [0.4, 0.6]]\n",
        "    B = [[0.9, 0.1], [0.2, 0.8]]\n",
        "    pi = [0.6, 0.4]\n",
        "    obs_seq = [0, 1, 0]  # 'Up', 'Down', 'Up'\n",
        "\n",
        "    HMM = ForwardBackwardHMM(States, Observations, A, B, pi)\n",
        "\n",
        "    Forward_Probabilities = HMM.forward(obs_seq)\n",
        "    Backward_Probabilities = HMM.backward(obs_seq)\n",
        "\n",
        "    Print Forward_Probabilities\n",
        "    Print Backward_Probabilities\n"
      ]
    },
    {
      "cell_type": "markdown",
      "metadata": {
        "id": "yqP3RRNBIwsS"
      },
      "source": [
        "- The Forward Algorithm efficiently computes the probability of a given sequence in an HMM.  \n",
        "- The Backward Algorithm complements it by computing probabilities in reverse, ensuring all paths are considered.  \n",
        "  \n",
        "This is useful for state estimation, allowing us to determine which states are more probable at each time step.  "
      ]
    },
    {
      "cell_type": "markdown",
      "metadata": {
        "id": "GjSTyH_PIwsS"
      },
      "source": [
        "### Student B: Viterbi Algorithm"
      ]
    },
    {
      "cell_type": "markdown",
      "metadata": {
        "id": "TH6Ug4GPIwsS"
      },
      "source": [
        "The Viterbi Algorithm finds the most probable sequence of hidden states given a sequence of observations. It is commonly used in speech recognition and finance to infer the best state path in an HMM.\n",
        "\n",
        "**Mathematical Formulation:**\n",
        "\n",
        "\\begin{equation}\n",
        "\\delta _t (j) = \\underset {X_{t-1}} {\\textrm{max}} \\; P ( X_t = S_j, O_1, O_2, ..., O_t | \\lambda )\n",
        "\\end{equation}\n",
        "\n",
        "\n",
        "\\begin{equation}\n",
        "\\psi _t (j) = \\underset {X_{t-1}} {\\textrm{arg max}} \\; P ( X_t = S_j, O_1, O_2, ..., O_t | \\lambda )\n",
        "\\end{equation}\n"
      ]
    },
    {
      "cell_type": "markdown",
      "metadata": {
        "id": "K7O5AoKiIwsT"
      },
      "source": [
        "##### Pseudo Code  \n",
        "\n",
        "    Class ViterbiHMM extends ForwardBackwardHMM:\n",
        "        Method viterbi(obs_seq):\n",
        "            T ← length of obs_seq\n",
        "            N ← number of states\n",
        "            Create matrix delta of size (T, N) initialized to zeros\n",
        "            Create matrix psi of size (T, N) initialized to zeros\n",
        "\n",
        "            # Initialization Step\n",
        "            For each state j:\n",
        "                delta[0, j] ← pi[j] * B[j, obs_seq[0]]\n",
        "\n",
        "            # Recursion Step\n",
        "            For each time step t from 1 to T-1:\n",
        "                For each state j:\n",
        "                    max_prob ← max(delta[t-1] * A[:, j])\n",
        "                    delta[t, j] ← max_prob * B[j, obs_seq[t]]\n",
        "                    psi[t, j] ← index of max_prob\n",
        "\n",
        "            # Backtracking Step\n",
        "            path ← array of size T\n",
        "            path[T-1] ← index of max(delta[T-1])\n",
        "\n",
        "            For each time step t from T-2 down to 0:\n",
        "                path[t] ← psi[t+1, path[t+1]]\n",
        "\n",
        "            Return path\n"
      ]
    },
    {
      "cell_type": "markdown",
      "metadata": {
        "id": "lIMXE_UgIwsT"
      },
      "source": [
        "##### Toy Example  \n",
        "\n",
        "    States = ['Bull', 'Bear']\n",
        "    Observations = ['Up', 'Down']\n",
        "\n",
        "    A = [[0.7, 0.3], [0.4, 0.6]]\n",
        "    B = [[0.9, 0.1], [0.2, 0.8]]\n",
        "    pi = [0.6, 0.4]\n",
        "    obs_seq = [0, 1, 0]  # 'Up', 'Down', 'Up'\n",
        "\n",
        "    HMM_Viterbi = ViterbiHMM(States, Observations, A, B, pi)\n",
        "\n",
        "    Viterbi_Path = HMM_Viterbi.viterbi(obs_seq)\n",
        "\n",
        "    Print Viterbi_Path  # Expected output: Most probable state sequence\n"
      ]
    },
    {
      "cell_type": "markdown",
      "metadata": {
        "id": "gXIA4iAkIwsU"
      },
      "source": [
        "The Viterbi Algorithm efficiently finds the most probable sequence of hidden states. This is crucial in financial market regime detection, where we infer if a market is in a bull, bear, or stagnant state."
      ]
    },
    {
      "cell_type": "markdown",
      "metadata": {
        "id": "zEZn9E5RIwsU"
      },
      "source": [
        "### Student C: Baum-Welch Algorithm   "
      ]
    },
    {
      "cell_type": "markdown",
      "metadata": {
        "id": "xoy5_GWXIwsU"
      },
      "source": [
        "The Baum-Welch Algorithm is an Expectation-Maximization $(EM)$ algorithm that learns the transition matrix $(A)$, emission matrix $(B)$, and initial probabilities $(\\pi)$ from observed data. It is used to train an HMM when parameters are unknown.  \n",
        "\n",
        "- Expectation Step: Compute expected probabilities using the Forward-Backward Algorithm.\n",
        "- Maximization Step: Update parameters $A, B,$ and $\\pi$ based on expected values.\n"
      ]
    },
    {
      "cell_type": "markdown",
      "metadata": {
        "id": "Um6XJAF-IwsV"
      },
      "source": [
        "##### Pseudo Code  \n",
        "\n",
        "    Class BaumWelchHMM extends ForwardBackwardHMM:\n",
        "        Method baum_welch(obs_seq, iterations):\n",
        "            For each iteration in iterations:\n",
        "                Compute forward probabilities alpha using forward(obs_seq)\n",
        "                Compute backward probabilities beta using backward(obs_seq)\n",
        "\n",
        "                # Expectation Step\n",
        "                Compute xi[t, i, j] using:\n",
        "                    alpha[t, i] * A[i, j] * B[j, obs_seq[t+1]] * beta[t+1, j]\n",
        "\n",
        "                # Maximization Step\n",
        "                Update A using normalized sum of xi values\n",
        "                Update B using normalized expected emission counts\n",
        "\n",
        "            Return updated A, B, pi\n"
      ]
    },
    {
      "cell_type": "markdown",
      "metadata": {
        "id": "od44x94BIwsV"
      },
      "source": [
        "##### Toy Example  \n",
        "\n",
        "    States = ['Bull', 'Bear']\n",
        "    Observations = ['Up', 'Down']\n",
        "\n",
        "    A = [[0.7, 0.3], [0.4, 0.6]]\n",
        "    B = [[0.9, 0.1], [0.2, 0.8]]\n",
        "    pi = [0.6, 0.4]\n",
        "    obs_seq = [0, 1, 0]  # 'Up', 'Down', 'Up'\n",
        "\n",
        "    HMM_BaumWelch = BaumWelchHMM(States, Observations, A, B, pi)\n",
        "\n",
        "    Updated_A, Updated_B, Updated_pi = HMM_BaumWelch.baum_welch(obs_seq, iterations=10)\n",
        "\n",
        "    Print Updated_A\n",
        "    Print Updated_B\n",
        "    Print Updated_pi\n"
      ]
    },
    {
      "cell_type": "markdown",
      "metadata": {
        "id": "x0bdmct_IwsV"
      },
      "source": [
        "- Baum-Welch Algorithm allows an HMM to learn from data.\n",
        "- This is crucial for market modeling, where parameters need continuous updating."
      ]
    },
    {
      "cell_type": "markdown",
      "metadata": {
        "id": "E4Esc9NlIwsW"
      },
      "source": [
        "## Step 2: Identifying and Illustrating Market Regimes  \n",
        "\n",
        "<p style='text-align: justify;'>\n",
        "Market regimes are distinct phases in financial markets characterized by different price movements, volatility, and investor sentiment. Hidden Markov Models (HMMs) help identify these regimes by modeling price fluctuations as probabilistic state transitions.  \n",
        "\n",
        "In this step, we analyze the following three regimes:"
      ]
    },
    {
      "cell_type": "markdown",
      "metadata": {
        "id": "_3CuCkiLIwsW"
      },
      "source": [
        "### Student A: Identifying and Illustrating Bull Regimes  \n",
        "  \n",
        "1. **Bull Regime** is characterized by:\n",
        "    - Sustained upward movement in prices.\n",
        "    - Low volatility compared to bear regimes.\n",
        "    - High trading volumes due to increased investor confidence.\n",
        "    Positive economic indicators (e.g., rising GDP, low unemployment).  \n",
        "      \n",
        "  \n",
        "2. **Mathematical Representation:**  \n",
        "    A bull regime is detected when:  \n",
        "    \\begin{equation}\n",
        "    r_t > \\mu + \\sigma\n",
        "    \\end{equation}\n",
        "    where,\n",
        "    - $r_t$ = daily return at time $t$\n",
        "    - $\\mu$ = mean return of the time series\n",
        "    - $\\sigma$ = standard deviation of returns\n",
        "\n",
        "If multiple consecutive periods satisfy this condition, the market is classified as a bull regime.  \n",
        "\n",
        "3. **Python Code to Detect Bull Regimes:**  \n",
        "\n"
      ]
    },
    {
      "cell_type": "code",
      "execution_count": null,
      "metadata": {
        "id": "cmMSjSRGIwsW",
        "outputId": "4e3e2fed-918e-4e89-c10c-e66a0381490e"
      },
      "outputs": [
        {
          "name": "stderr",
          "output_type": "stream",
          "text": [
            "C:\\Users\\Argha Das\\Anaconda3\\lib\\site-packages\\pandas\\compat\\_optional.py:138: UserWarning: Pandas requires version '2.7.0' or newer of 'numexpr' (version '2.6.9' currently installed).\n",
            "  warnings.warn(msg, UserWarning)\n"
          ]
        }
      ],
      "source": [
        "# Import Libraries\n",
        "import numpy as np\n",
        "import pandas as pd\n",
        "import yfinance as yf\n",
        "import matplotlib.pyplot as plt\n",
        "import seaborn as sns"
      ]
    },
    {
      "cell_type": "code",
      "execution_count": null,
      "metadata": {
        "id": "oRZ8_lGkIwsa",
        "outputId": "e13f5827-a16e-45b2-9df1-bf3cd299f689"
      },
      "outputs": [
        {
          "name": "stdout",
          "output_type": "stream",
          "text": [
            "[*********************100%%**********************]  1 of 1 completed\n"
          ]
        }
      ],
      "source": [
        "# Load market data (S&P 500)\n",
        "sp500 = yf.download(\"^GSPC\", start=\"2020-01-01\", end=\"2023-12-31\")['Close']\n",
        "returns = sp500.pct_change().dropna()\n",
        "\n",
        "# Compute rolling mean and standard deviation (window = 100 days)\n",
        "mu = returns.rolling(window=100).mean()\n",
        "sigma = returns.rolling(window=100).std()\n",
        "\n",
        "# Identify bull regimes (returns > rolling mean + rolling std)\n",
        "bull_regime = returns[returns > mu + sigma]\n"
      ]
    },
    {
      "cell_type": "code",
      "execution_count": null,
      "metadata": {
        "id": "ZkbluxdzIwsb",
        "outputId": "7d5fef33-ba0a-4883-a855-964852ea1628"
      },
      "outputs": [
        {
          "data": {
            "image/png": "[encoded data removed]",
            "text/plain": [
              "<Figure size 864x432 with 1 Axes>"
            ]
          },
          "metadata": {
            "needs_background": "light"
          },
          "output_type": "display_data"
        }
      ],
      "source": [
        "# visualization\n",
        "plt.figure(figsize=(12,6))\n",
        "sns.lineplot(x=returns.index, y=returns, label=\"S&P 500 Returns\", color='gray', alpha=0.6)\n",
        "sns.lineplot(x=bull_regime.index, y=bull_regime, label=\"Bull Regime\", color='green')\n",
        "plt.axhline(y=mu.mean(), color='blue', linestyle=\"--\", label=\"Mean Return\")\n",
        "plt.title(\"Bull Regimes in S&P 500\")\n",
        "plt.legend()\n",
        "plt.show()\n"
      ]
    },
    {
      "cell_type": "markdown",
      "metadata": {
        "id": "lxYzLRRzIwsc"
      },
      "source": [
        "As clearly observed from the illustration, Bull regimes are periods where returns remain consistently above average. These periods are usually result of economic expansion."
      ]
    },
    {
      "cell_type": "markdown",
      "metadata": {
        "id": "mJkGXjLQIwsc"
      },
      "source": [
        "###  Student B: Identifying and Illustrating Bear Regimes  \n",
        "  \n",
        "1. **Bear Regime** is characterized by:\n",
        "    - Sustained downward trend in asset prices.\n",
        "    - High volatility due to panic selling.\n",
        "    - Declining economic indicators (e.g., rising unemployment, negative GDP growth).\n",
        "    - Increased market uncertainty and fear.  \n",
        "      \n",
        "  \n",
        "2. **Mathematical Representation:**  \n",
        "    A bear regime is detected when:\n",
        "    \\begin{equation}\n",
        "        r_t < \\mu - \\sigma\n",
        "    \\end{equation}\n",
        "    where,\n",
        "    - $r_t$ = daily return at time $t$\n",
        "    - $\\mu$ = mean return of the time series\n",
        "    - $\\sigma$ = standard deviation of returns  \n",
        "  \n",
        "If multiple consecutive periods satisfy this condition, the market is classified as a bear regime.  \n",
        "\n",
        "3. **Python Code to Detect Bull Regimes:**  \n",
        "\n"
      ]
    },
    {
      "cell_type": "code",
      "execution_count": null,
      "metadata": {
        "id": "SlRtNeDPIwsc",
        "outputId": "27cf98b5-cda3-4766-a3e8-e3effbf2d0b9"
      },
      "outputs": [
        {
          "data": {
            "image/png": "[encoded data removed]",
            "text/plain": [
              "<Figure size 864x432 with 1 Axes>"
            ]
          },
          "metadata": {
            "needs_background": "light"
          },
          "output_type": "display_data"
        }
      ],
      "source": [
        "# Identify bear regimes (returns < rolling mean - rolling std)\n",
        "bear_regime = returns[returns < mu - sigma]\n",
        "\n",
        "# Enhanced visualization\n",
        "plt.figure(figsize=(12,6))\n",
        "sns.lineplot(x=returns.index, y=returns, label=\"S&P 500 Returns\", color='gray', alpha=0.6)\n",
        "sns.lineplot(x=bear_regime.index, y=bear_regime, label=\"Bear Regime\", color='red')\n",
        "plt.axhline(y=mu.mean(), color='blue', linestyle=\"--\", label=\"Mean Return\")\n",
        "plt.title(\"Bear Regimes in S&P 500\")\n",
        "plt.legend()\n",
        "plt.show()\n"
      ]
    },
    {
      "cell_type": "markdown",
      "metadata": {
        "id": "bI0AE2OZIwsd"
      },
      "source": [
        "As clearly visible from the illustration, Bear regimes are periods where returns decline sharply. These periods are usually result of financial crises, recessions, and increased market volatility.  "
      ]
    },
    {
      "cell_type": "markdown",
      "metadata": {
        "id": "Q6V_sR-YIwsd"
      },
      "source": [
        "### Student C: Identifying and Illustrating Stagnant Regimes  \n",
        "  \n",
        "1. **Stagnant Regime:**  \n",
        "    A stagnant (sideways) regime is a market phase where prices fluctuate within a range, showing no clear trend. This regime is characterized by:\n",
        "    - Minimal price movement with no clear trend.\n",
        "    - Low volatility (but not necessarily low trading volume).\n",
        "    - Investors adopting a \"wait-and-see\" approach.\n",
        "    - Periods of market consolidation before major moves.\n",
        "2. **Mathematical Representation:**\n",
        "    A stagnant regime is detected when:\n",
        "    \\begin{equation}\n",
        "        \\mu - \\sigma < r_t < \\mu + \\sigma\n",
        "    \\end{equation}\n",
        "    where,\n",
        "    - $r_t$ = daily return at time $t$\n",
        "    - $\\mu$ = mean return of the time series\n",
        "    - $\\sigma$ = standard deviation of returns  \n",
        "    \n",
        "    If multiple consecutive periods satisfy this condition, the market is classified as a stagnant regime.  \n",
        "      \n",
        "\n",
        "3. **Python Code to Detect Stagnant Regimes:**\n"
      ]
    },
    {
      "cell_type": "code",
      "execution_count": null,
      "metadata": {
        "id": "JTcvxxL7Iwse",
        "outputId": "8cd640a4-f690-45eb-a456-50173516bf19"
      },
      "outputs": [
        {
          "data": {
            "image/png": "[encoded data removed]",
            "text/plain": [
              "<Figure size 864x432 with 1 Axes>"
            ]
          },
          "metadata": {
            "needs_background": "light"
          },
          "output_type": "display_data"
        }
      ],
      "source": [
        "# Identify stagnant regimes (returns within mean ± std)\n",
        "stagnant_regime = returns[(returns >= mu - sigma) & (returns <= mu + sigma)]\n",
        "\n",
        "# Enhanced visualization\n",
        "plt.figure(figsize=(12,6))\n",
        "sns.lineplot(x=returns.index, y=returns, label=\"S&P 500 Returns\", color='gray', alpha=0.6)\n",
        "sns.lineplot(x=stagnant_regime.index, y=stagnant_regime, label=\"Stagnant Regime\", color='skyblue')\n",
        "plt.axhline(y=mu.mean(), color='blue', linestyle=\"--\", label=\"Mean Return\")\n",
        "plt.title(\"Stagnant Regimes in S&P 500\")\n",
        "plt.legend()\n",
        "plt.show()\n"
      ]
    },
    {
      "cell_type": "markdown",
      "metadata": {
        "id": "b-Qkyw9DIwse"
      },
      "source": [
        "Stagnant regimes occur when the market lacks direction. These periods often precede major breakouts or breakdowns. As we can see from the illustratio, this period looks like a band around the $X-axis$."
      ]
    },
    {
      "cell_type": "markdown",
      "metadata": {
        "id": "a3lxGHgoIwsf"
      },
      "source": [
        "**Overall observation from this step:**\n",
        "- **Bull Regimes:** Strong upward trends, low volatility, high confidence.\n",
        "- **Bear Regimes:** Sustained price declines, high volatility, economic distress.\n",
        "- **Stagnant Regimes:** Sideways movement, low volatility, indecision in the market."
      ]
    },
    {
      "cell_type": "markdown",
      "metadata": {
        "id": "v_IY6AvxIwsf"
      },
      "source": [
        "## Step 3: Defining the Hidden Markov Model (HMM) in Our Own Words  \n",
        "\n",
        "**Introduction**\n",
        "<p style='text-align: justify;'>\n",
        "A Hidden Markov Model (HMM) is a statistical model used to represent systems that evolve over time with hidden states influencing observable outputs. These models assume that the system moves between a set of hidden states based on certain probabilities, and at each state, it emits an observable output.  \n",
        "    \n",
        "<p style='text-align: justify;'>\n",
        "In financial markets, investors only observe asset prices and market returns, while the actual market regime (bull, bear, stagnant) remains hidden. HMMs allow us to estimate these hidden regimes by analyzing historical price patterns and detecting transitions between market conditions.  \n",
        "    \n",
        "<p style='text-align: justify;'>\n",
        "This section provides a structured definition of HMMs, explains its mathematical formulation, highlights its significance in financial modeling, and references updated sources to support our approach.  "
      ]
    },
    {
      "cell_type": "markdown",
      "metadata": {
        "id": "T4DLGq5gIwsf"
      },
      "source": [
        "#### Definition of a Hidden Markov Model (HMM)  \n",
        "\n",
        "A Hidden Markov Model (HMM) consists of the following five components:  \n",
        "\n",
        "- **$\\mathbb{S}$ (Hidden States):** A set of $N$ possible states in which the system can exist.  \n",
        "  - $S_1$: Bull Market  \n",
        "  - $S_2$: Bear Market  \n",
        "  - $S_3$: Stagnant Market   \n",
        "  \n",
        "  \n",
        "- **$\\mathbb{O}$ (Observation Space):** A set of $M$ observable variables. These could be:  \n",
        "  - Stock price returns  \n",
        "  - Volatility measures (e.g., VIX)  \n",
        "  - Trading volume  \n",
        "  \n",
        "  \n",
        "- **$A$ (State Transition Matrix):** Defines the probabilities of moving from one hidden state to another.  \n",
        "\n",
        "  $$ A = [a_{ij}], \\quad a_{ij} = P(S_{t+1} = j \\mid S_t = i) $$\n",
        "\n",
        "  where $a_{ij}$ represents the probability of transitioning from state $S_i$ at time $t$ to state $S_j$ at time $t+1$.  \n",
        "  \n",
        "  \n",
        "- **$B$ (Emission Probability Matrix):** Defines the probability of observing a particular value given a hidden state.  \n",
        "  \n",
        "  \n",
        "  $$ B = [b_j(O_t)], \\quad b_j(O_t) = P(O_t \\mid S_t = j) $$\n",
        "\n",
        "  This represents the probability that a given hidden state generates a specific observed price return or volatility level.  \n",
        "\n",
        "- **$\\pi$ (Initial State Distribution):** Represents the probability of the system starting in each hidden state.  \n",
        "  \n",
        "  \n",
        "  $$ \\pi = [\\pi_i], \\quad \\pi_i = P(S_0 = i) $$\n",
        "  \n",
        "These five parameters define an HMM as:  \n",
        "\n",
        "$$ \\lambda = (\\mathbb{S}, \\mathbb{O}, A, B, \\pi) $$\n",
        "\n"
      ]
    },
    {
      "cell_type": "markdown",
      "metadata": {
        "id": "qRHRm06JIwsg"
      },
      "source": [
        "#### Importance of HMM in Financial Markets  \n",
        "  \n",
        "- Captures Market Phases: Financial markets switch between regimes (bull, bear, stagnant). HMMs model these transitions probabilistically.\n",
        "- Handles Uncertainty: Unlike static models, HMMs dynamically adjust as new market data arrives.\n",
        "- Improves Forecasting: By incorporating hidden regime shifts, HMMs provide more accurate predictions.\n",
        "- Identifies Anomalies & Trend Shifts: Detects momentum changes, crashes, and reversals before they become obvious.  \n",
        "  \n",
        "  \n",
        "**Example:**  \n",
        "- If returns remain consistently high, the model assigns a high probability to the bull regime.\n",
        "- If volatility spikes and returns turn negative, the model assigns a high probability to the bear regime."
      ]
    },
    {
      "cell_type": "markdown",
      "metadata": {
        "id": "gPQ4tJ0KIwsg"
      },
      "source": [
        "#### Implementation: of a simple HMM for market regimes  \n",
        "\n",
        "To illustrate how HMMs can detect hidden market states, we implement a basic 3-state HMM using hmmlearn."
      ]
    },
    {
      "cell_type": "code",
      "execution_count": null,
      "metadata": {
        "id": "HOvq8qr9Iwsg",
        "outputId": "408cd0b6-f95a-4c0d-b342-5300290b2f0b"
      },
      "outputs": [
        {
          "name": "stdout",
          "output_type": "stream",
          "text": [
            "[*********************100%%**********************]  1 of 1 completed\n"
          ]
        },
        {
          "data": {
            "image/png": "[encoded data removed]",
            "text/plain": [
              "<Figure size 1008x432 with 1 Axes>"
            ]
          },
          "metadata": {},
          "output_type": "display_data"
        }
      ],
      "source": [
        "# Import Libraries\n",
        "from hmmlearn.hmm import GaussianHMM\n",
        "import warnings\n",
        "warnings.filterwarnings(\"ignore\", category=DeprecationWarning)\n",
        "\n",
        "\n",
        "# Load market data (S&P 500)\n",
        "sp500 = yf.download(\"^GSPC\", start=\"2020-01-01\", end=\"2023-12-31\")['Close']\n",
        "returns = sp500.pct_change().dropna().values.reshape(-1, 1)\n",
        "\n",
        "# Train an HMM with 3 hidden states (Bull, Bear, Stagnant)\n",
        "hmm = GaussianHMM(n_components=3, covariance_type=\"full\", n_iter=1000)\n",
        "hmm.fit(returns)\n",
        "\n",
        "# Predict hidden states\n",
        "hidden_states = hmm.predict(returns)\n",
        "\n",
        "# Define color mapping for regimes\n",
        "state_colors = {0: \"green\", 1: \"red\", 2: \"blue\"}  # 0 = Bull, 1 = Bear, 2 = Stagnant\n",
        "\n",
        "# Create a DataFrame for plotting\n",
        "df = pd.DataFrame({\n",
        "    'Date': sp500.index[1:],\n",
        "    'S&P 500': sp500.values[1:],\n",
        "    'Regime': hidden_states\n",
        "})\n",
        "\n",
        "# Set the Seaborn style\n",
        "sns.set_style(\"darkgrid\")\n",
        "\n",
        "# Plot the market regimes\n",
        "plt.figure(figsize=(14, 6))\n",
        "sns.lineplot(data=df, x=\"Date\", y=\"S&P 500\", color=\"gray\", alpha=0.6, label=\"S&P 500 Price\")\n",
        "\n",
        "# Overlay the regimes using color-coded background shading\n",
        "for regime, color in state_colors.items():\n",
        "    plt.fill_between(df[\"Date\"], df[\"S&P 500\"], where=(df[\"Regime\"] == regime), color=color, alpha=0.3, label=f\"Regime {regime}\")\n",
        "\n",
        "# Add title and labels\n",
        "plt.title(\"HMM-Based Market Regime Detection\", fontsize=14)\n",
        "plt.xlabel(\"Date\", fontsize=12)\n",
        "plt.ylabel(\"S&P 500 Price\", fontsize=12)\n",
        "plt.legend()\n",
        "plt.show()\n"
      ]
    },
    {
      "cell_type": "markdown",
      "metadata": {
        "id": "Csdx0_AKIwsh"
      },
      "source": [
        "#### Conclusion  \n",
        "\n",
        "An HMM is a probabilistic model that describes a system transitioning between hidden states, where each state emits observable outputs.\n",
        "- HMMs are useful for detecting hidden market conditions that are not directly observable.\n",
        "- By modeling market transitions probabilistically, HMMs improve financial forecasting.\n",
        "- This method is widely used in algorithmic trading, risk management, and economic forecasting."
      ]
    },
    {
      "cell_type": "markdown",
      "metadata": {
        "id": "tTfJm4dXIwsh"
      },
      "source": [
        "## Step 4: Macro Research, Dataset Retrieval, Data Cleaning, and Model Implementation  \n",
        "  \n",
        "**Introduction**  \n",
        "In this step, we move from theory to practical implementation. The focus is on building a high-quality dataset for Hidden Markov Model (HMM) training and ensuring that the data is clean, well-structured, and relevant for market regime detection.\n",
        "\n",
        "This involves:\n",
        "- Macro Research: Understanding key economic indicators affecting financial time series.\n",
        "- Dataset Retrieval: Collecting historical financial data from credible sources.\n",
        "- Data Cleaning: Handling missing values, removing outliers, and normalizing data.\n",
        "- Model Implementation: Structuring data to be used as input for an HMM.\n",
        "\n",
        "A well-prepared dataset is critical for accurate HMM-based market regime detection, as poor data quality leads to unreliable models."
      ]
    },
    {
      "cell_type": "markdown",
      "metadata": {
        "id": "Kl6H-tR4Iwsh"
      },
      "source": [
        "### 1. Macro Research: Key Market Factors for Regime Detection  \n",
        "\n",
        "To model financial market regimes, we must understand which macroeconomic factors impact asset price movements. Below are key factors affecting regime shifts:\n",
        "\n",
        "- **Interest Rates & Bond Yields**\n",
        "    - Rising interest rates often trigger bear markets (higher borrowing costs, slower growth).\n",
        "    - Falling rates generally support bull markets (cheaper credit, economic expansion).\n",
        "    - Data Source: U.S. 10-Year Treasury Yield (FRED).\n",
        "- **Inflation & Economic Growth**\n",
        "    - High inflation and slowing GDP signal a potential bear market.\n",
        "    - Low inflation and strong GDP growth fuel bull markets.\n",
        "    - Data Source: CPI (Consumer Price Index) & GDP Growth Rate (FRED).\n",
        "- **Market Volatility (VIX Index)**\n",
        "    - A high VIX (fear gauge) indicates market uncertainty and risk-off sentiment.\n",
        "    - A low VIX suggests stability and optimism.\n",
        "    - Data Source: CBOE Volatility Index (Yahoo Finance).\n",
        "- **Crude Oil Prices & Commodity Markets**\n",
        "    - Rising oil prices can indicate inflationary pressure and slowing economic growth.\n",
        "    - Falling oil prices may boost consumer spending and corporate profits.\n",
        "    - Data Source: WTI Crude Oil Prices (Yahoo Finance).\n",
        "- **Currency Markets & Dollar Strength (DXY Index)**\n",
        "    - A strong U.S. dollar (DXY rising) may signal risk-off sentiment.\n",
        "    - A weak dollar supports emerging markets and risk assets.\n",
        "    - Data Source: U.S. Dollar Index (Yahoo Finance).\n"
      ]
    },
    {
      "cell_type": "markdown",
      "metadata": {
        "id": "ZFJ3u9yYIwsi"
      },
      "source": [
        "### 2. Dataset Retrieval: Collecting Financial Market Data  \n",
        "\n",
        "We will fetch daily historical prices for the indicators listed above from Yahoo Finance. This ensures that we get a dataset with consistent frequency and reliable data."
      ]
    },
    {
      "cell_type": "code",
      "execution_count": null,
      "metadata": {
        "id": "M7BJ7nB-Iws1",
        "outputId": "19789141-cdf8-4553-b50c-1db0a540d33b"
      },
      "outputs": [
        {
          "name": "stdout",
          "output_type": "stream",
          "text": [
            "[*********************100%%**********************]  1 of 1 completed\n",
            "[*********************100%%**********************]  1 of 1 completed\n",
            "[*********************100%%**********************]  1 of 1 completed\n",
            "[*********************100%%**********************]  1 of 1 completed\n",
            "[*********************100%%**********************]  1 of 1 completed\n"
          ]
        },
        {
          "data": {
            "text/html": [
              "<div>\n",
              "<style scoped>\n",
              "    .dataframe tbody tr th:only-of-type {\n",
              "        vertical-align: middle;\n",
              "    }\n",
              "\n",
              "    .dataframe tbody tr th {\n",
              "        vertical-align: top;\n",
              "    }\n",
              "\n",
              "    .dataframe thead th {\n",
              "        text-align: right;\n",
              "    }\n",
              "</style>\n",
              "<table border=\"1\" class=\"dataframe\">\n",
              "  <thead>\n",
              "    <tr style=\"text-align: right;\">\n",
              "      <th></th>\n",
              "      <th>S&amp;P 500</th>\n",
              "      <th>VIX Index</th>\n",
              "      <th>WTI Crude Oil</th>\n",
              "      <th>Dollar Index</th>\n",
              "      <th>10Y Treasury Yield</th>\n",
              "    </tr>\n",
              "    <tr>\n",
              "      <th>Date</th>\n",
              "      <th></th>\n",
              "      <th></th>\n",
              "      <th></th>\n",
              "      <th></th>\n",
              "      <th></th>\n",
              "    </tr>\n",
              "  </thead>\n",
              "  <tbody>\n",
              "    <tr>\n",
              "      <th>2020-01-02</th>\n",
              "      <td>3257.850098</td>\n",
              "      <td>12.47</td>\n",
              "      <td>61.180000</td>\n",
              "      <td>96.849998</td>\n",
              "      <td>1.882</td>\n",
              "    </tr>\n",
              "    <tr>\n",
              "      <th>2020-01-03</th>\n",
              "      <td>3234.850098</td>\n",
              "      <td>14.02</td>\n",
              "      <td>63.049999</td>\n",
              "      <td>96.839996</td>\n",
              "      <td>1.788</td>\n",
              "    </tr>\n",
              "    <tr>\n",
              "      <th>2020-01-06</th>\n",
              "      <td>3246.280029</td>\n",
              "      <td>13.85</td>\n",
              "      <td>63.270000</td>\n",
              "      <td>96.669998</td>\n",
              "      <td>1.811</td>\n",
              "    </tr>\n",
              "    <tr>\n",
              "      <th>2020-01-07</th>\n",
              "      <td>3237.179932</td>\n",
              "      <td>13.79</td>\n",
              "      <td>62.700001</td>\n",
              "      <td>96.980003</td>\n",
              "      <td>1.827</td>\n",
              "    </tr>\n",
              "    <tr>\n",
              "      <th>2020-01-08</th>\n",
              "      <td>3253.050049</td>\n",
              "      <td>13.45</td>\n",
              "      <td>59.610001</td>\n",
              "      <td>97.300003</td>\n",
              "      <td>1.874</td>\n",
              "    </tr>\n",
              "  </tbody>\n",
              "</table>\n",
              "</div>"
            ],
            "text/plain": [
              "                S&P 500  VIX Index  WTI Crude Oil  Dollar Index  \\\n",
              "Date                                                              \n",
              "2020-01-02  3257.850098      12.47      61.180000     96.849998   \n",
              "2020-01-03  3234.850098      14.02      63.049999     96.839996   \n",
              "2020-01-06  3246.280029      13.85      63.270000     96.669998   \n",
              "2020-01-07  3237.179932      13.79      62.700001     96.980003   \n",
              "2020-01-08  3253.050049      13.45      59.610001     97.300003   \n",
              "\n",
              "            10Y Treasury Yield  \n",
              "Date                            \n",
              "2020-01-02               1.882  \n",
              "2020-01-03               1.788  \n",
              "2020-01-06               1.811  \n",
              "2020-01-07               1.827  \n",
              "2020-01-08               1.874  "
            ]
          },
          "execution_count": 14,
          "metadata": {},
          "output_type": "execute_result"
        }
      ],
      "source": [
        "# Define assets to retrieve\n",
        "assets = {\n",
        "    \"S&P 500\": \"^GSPC\",\n",
        "    \"VIX Index\": \"^VIX\",\n",
        "    \"WTI Crude Oil\": \"CL=F\",\n",
        "    \"Dollar Index\": \"DX-Y.NYB\",\n",
        "    \"10Y Treasury Yield\": \"^TNX\"\n",
        "}\n",
        "\n",
        "# Fetch historical data\n",
        "start_date = \"2020-01-01\"\n",
        "end_date = \"2023-12-31\"\n",
        "data = {name: yf.download(ticker, start=start_date, end=end_date)['Close'] for name, ticker in assets.items()}\n",
        "\n",
        "# Convert to DataFrame\n",
        "df = pd.DataFrame(data)\n",
        "df.index = pd.to_datetime(df.index)\n",
        "\n",
        "# Display dataset\n",
        "df.head()\n"
      ]
    },
    {
      "cell_type": "markdown",
      "metadata": {
        "id": "pO0dw-hUIws2"
      },
      "source": [
        "### 3. Data Cleaning: Handling Missing Values & Outliers  \n",
        "\n",
        "#### Handling Missing Values\n",
        "Financial data often contains missing values due to:\n",
        "- Market holidays & non-trading days.\n",
        "- Temporary delistings or trading suspensions.  \n",
        "  \n",
        "  \n",
        "We cannot simply drop missing rows because that would create gaps in the time series. Instead, we use:\n",
        "- Forward Fill (FFILL): Uses the last known price.\n",
        "- Backward Fill (BFILL): Uses the next available price if the previous is missing.\n",
        "- Interpolation: Estimates missing values smoothly."
      ]
    },
    {
      "cell_type": "code",
      "execution_count": null,
      "metadata": {
        "id": "LFPV_5QhIws2",
        "outputId": "3688e841-b1a7-46eb-df04-459134611d36"
      },
      "outputs": [
        {
          "data": {
            "text/html": [
              "<div>\n",
              "<style scoped>\n",
              "    .dataframe tbody tr th:only-of-type {\n",
              "        vertical-align: middle;\n",
              "    }\n",
              "\n",
              "    .dataframe tbody tr th {\n",
              "        vertical-align: top;\n",
              "    }\n",
              "\n",
              "    .dataframe thead th {\n",
              "        text-align: right;\n",
              "    }\n",
              "</style>\n",
              "<table border=\"1\" class=\"dataframe\">\n",
              "  <thead>\n",
              "    <tr style=\"text-align: right;\">\n",
              "      <th></th>\n",
              "      <th>S&amp;P 500</th>\n",
              "      <th>VIX Index</th>\n",
              "      <th>WTI Crude Oil</th>\n",
              "      <th>Dollar Index</th>\n",
              "      <th>10Y Treasury Yield</th>\n",
              "    </tr>\n",
              "    <tr>\n",
              "      <th>Date</th>\n",
              "      <th></th>\n",
              "      <th></th>\n",
              "      <th></th>\n",
              "      <th></th>\n",
              "      <th></th>\n",
              "    </tr>\n",
              "  </thead>\n",
              "  <tbody>\n",
              "    <tr>\n",
              "      <th>2020-01-02</th>\n",
              "      <td>3257.850098</td>\n",
              "      <td>12.47</td>\n",
              "      <td>61.180000</td>\n",
              "      <td>96.849998</td>\n",
              "      <td>1.882</td>\n",
              "    </tr>\n",
              "    <tr>\n",
              "      <th>2020-01-03</th>\n",
              "      <td>3234.850098</td>\n",
              "      <td>14.02</td>\n",
              "      <td>63.049999</td>\n",
              "      <td>96.839996</td>\n",
              "      <td>1.788</td>\n",
              "    </tr>\n",
              "    <tr>\n",
              "      <th>2020-01-06</th>\n",
              "      <td>3246.280029</td>\n",
              "      <td>13.85</td>\n",
              "      <td>63.270000</td>\n",
              "      <td>96.669998</td>\n",
              "      <td>1.811</td>\n",
              "    </tr>\n",
              "    <tr>\n",
              "      <th>2020-01-07</th>\n",
              "      <td>3237.179932</td>\n",
              "      <td>13.79</td>\n",
              "      <td>62.700001</td>\n",
              "      <td>96.980003</td>\n",
              "      <td>1.827</td>\n",
              "    </tr>\n",
              "    <tr>\n",
              "      <th>2020-01-08</th>\n",
              "      <td>3253.050049</td>\n",
              "      <td>13.45</td>\n",
              "      <td>59.610001</td>\n",
              "      <td>97.300003</td>\n",
              "      <td>1.874</td>\n",
              "    </tr>\n",
              "  </tbody>\n",
              "</table>\n",
              "</div>"
            ],
            "text/plain": [
              "                S&P 500  VIX Index  WTI Crude Oil  Dollar Index  \\\n",
              "Date                                                              \n",
              "2020-01-02  3257.850098      12.47      61.180000     96.849998   \n",
              "2020-01-03  3234.850098      14.02      63.049999     96.839996   \n",
              "2020-01-06  3246.280029      13.85      63.270000     96.669998   \n",
              "2020-01-07  3237.179932      13.79      62.700001     96.980003   \n",
              "2020-01-08  3253.050049      13.45      59.610001     97.300003   \n",
              "\n",
              "            10Y Treasury Yield  \n",
              "Date                            \n",
              "2020-01-02               1.882  \n",
              "2020-01-03               1.788  \n",
              "2020-01-06               1.811  \n",
              "2020-01-07               1.827  \n",
              "2020-01-08               1.874  "
            ]
          },
          "execution_count": 16,
          "metadata": {},
          "output_type": "execute_result"
        }
      ],
      "source": [
        "df = df.interpolate(method='linear')  # Linear interpolation\n",
        "df.head()"
      ]
    },
    {
      "cell_type": "markdown",
      "metadata": {
        "id": "FQQ_fgHVIws2"
      },
      "source": [
        "#### Detecting and Removing Outliers  \n",
        "  \n",
        "Extreme price movements could be:\n",
        "- Data errors (e.g., flash crashes, incorrect data feeds).\n",
        "- Market anomalies (e.g., pandemic crashes, geopolitical shocks).\n",
        "\n",
        "Outlier Detection Using Z-Score Method"
      ]
    },
    {
      "cell_type": "code",
      "execution_count": null,
      "metadata": {
        "id": "MO6oFLoiIws3",
        "outputId": "cc7ccda9-8ab1-44de-b023-98038ef54c0f"
      },
      "outputs": [
        {
          "data": {
            "text/html": [
              "<div>\n",
              "<style scoped>\n",
              "    .dataframe tbody tr th:only-of-type {\n",
              "        vertical-align: middle;\n",
              "    }\n",
              "\n",
              "    .dataframe tbody tr th {\n",
              "        vertical-align: top;\n",
              "    }\n",
              "\n",
              "    .dataframe thead th {\n",
              "        text-align: right;\n",
              "    }\n",
              "</style>\n",
              "<table border=\"1\" class=\"dataframe\">\n",
              "  <thead>\n",
              "    <tr style=\"text-align: right;\">\n",
              "      <th></th>\n",
              "      <th>S&amp;P 500</th>\n",
              "      <th>VIX Index</th>\n",
              "      <th>WTI Crude Oil</th>\n",
              "      <th>Dollar Index</th>\n",
              "      <th>10Y Treasury Yield</th>\n",
              "    </tr>\n",
              "    <tr>\n",
              "      <th>Date</th>\n",
              "      <th></th>\n",
              "      <th></th>\n",
              "      <th></th>\n",
              "      <th></th>\n",
              "      <th></th>\n",
              "    </tr>\n",
              "  </thead>\n",
              "  <tbody>\n",
              "    <tr>\n",
              "      <th>2020-01-02</th>\n",
              "      <td>-1.168119</td>\n",
              "      <td>-0.989737</td>\n",
              "      <td>-0.392414</td>\n",
              "      <td>-0.190892</td>\n",
              "      <td>0.053319</td>\n",
              "    </tr>\n",
              "    <tr>\n",
              "      <th>2020-01-03</th>\n",
              "      <td>-1.200817</td>\n",
              "      <td>-0.817753</td>\n",
              "      <td>-0.329641</td>\n",
              "      <td>-0.191861</td>\n",
              "      <td>0.012736</td>\n",
              "    </tr>\n",
              "    <tr>\n",
              "      <th>2020-01-06</th>\n",
              "      <td>-1.184568</td>\n",
              "      <td>-0.836616</td>\n",
              "      <td>-0.322256</td>\n",
              "      <td>-0.208333</td>\n",
              "      <td>0.022666</td>\n",
              "    </tr>\n",
              "    <tr>\n",
              "      <th>2020-01-07</th>\n",
              "      <td>-1.197505</td>\n",
              "      <td>-0.843273</td>\n",
              "      <td>-0.341390</td>\n",
              "      <td>-0.178294</td>\n",
              "      <td>0.029574</td>\n",
              "    </tr>\n",
              "    <tr>\n",
              "      <th>2020-01-08</th>\n",
              "      <td>-1.174943</td>\n",
              "      <td>-0.880999</td>\n",
              "      <td>-0.445116</td>\n",
              "      <td>-0.147287</td>\n",
              "      <td>0.049865</td>\n",
              "    </tr>\n",
              "  </tbody>\n",
              "</table>\n",
              "</div>"
            ],
            "text/plain": [
              "             S&P 500  VIX Index  WTI Crude Oil  Dollar Index  \\\n",
              "Date                                                           \n",
              "2020-01-02 -1.168119  -0.989737      -0.392414     -0.190892   \n",
              "2020-01-03 -1.200817  -0.817753      -0.329641     -0.191861   \n",
              "2020-01-06 -1.184568  -0.836616      -0.322256     -0.208333   \n",
              "2020-01-07 -1.197505  -0.843273      -0.341390     -0.178294   \n",
              "2020-01-08 -1.174943  -0.880999      -0.445116     -0.147287   \n",
              "\n",
              "            10Y Treasury Yield  \n",
              "Date                            \n",
              "2020-01-02            0.053319  \n",
              "2020-01-03            0.012736  \n",
              "2020-01-06            0.022666  \n",
              "2020-01-07            0.029574  \n",
              "2020-01-08            0.049865  "
            ]
          },
          "execution_count": 22,
          "metadata": {},
          "output_type": "execute_result"
        }
      ],
      "source": [
        "def get_iqr(data_series):\n",
        "    q3, q1 = np.percentile(data_series, [75 ,25])\n",
        "    iqr = q3 - q1\n",
        "    return iqr\n",
        "\n",
        "# Compute Z-scores for outlier detection\n",
        "z_scores = (df - df.median()) / df.apply(get_iqr)\n",
        "\n",
        "# Define outlier threshold\n",
        "threshold = 3\n",
        "outliers = (np.abs(z_scores) > threshold)\n",
        "\n",
        "# Remove outliers (replace with NaN and interpolate)\n",
        "df[outliers] = np.nan\n",
        "df.interpolate(method='linear', inplace=True)\n",
        "\n",
        "# df.head()\n",
        "z_scores.head()"
      ]
    },
    {
      "cell_type": "code",
      "execution_count": null,
      "metadata": {
        "id": "ipKDjQ0-Iws4",
        "outputId": "b1c5ff56-027b-4101-9c35-05887bdd4ab6"
      },
      "outputs": [
        {
          "data": {
            "text/plain": [
              "S&P 500               0\n",
              "VIX Index             0\n",
              "WTI Crude Oil         0\n",
              "Dollar Index          0\n",
              "10Y Treasury Yield    0\n",
              "dtype: int64"
            ]
          },
          "execution_count": 26,
          "metadata": {},
          "output_type": "execute_result"
        }
      ],
      "source": [
        "# Outliers count\n",
        "outliers.sum()"
      ]
    },
    {
      "cell_type": "markdown",
      "metadata": {
        "id": "ivIuXlopIws6"
      },
      "source": [
        "### 4. Model Implementation: Structuring Data for HMM Training  \n",
        "\n",
        "#### Compute Log Returns (Input for HMMs)\n",
        "Since HMMs work best with stationary data, we compute log returns instead of raw prices."
      ]
    },
    {
      "cell_type": "code",
      "execution_count": null,
      "metadata": {
        "id": "KZFybFvDIws6",
        "outputId": "531f3a96-f786-489a-bca7-cae0e1bf5b5a"
      },
      "outputs": [
        {
          "data": {
            "text/html": [
              "<div>\n",
              "<style scoped>\n",
              "    .dataframe tbody tr th:only-of-type {\n",
              "        vertical-align: middle;\n",
              "    }\n",
              "\n",
              "    .dataframe tbody tr th {\n",
              "        vertical-align: top;\n",
              "    }\n",
              "\n",
              "    .dataframe thead th {\n",
              "        text-align: right;\n",
              "    }\n",
              "</style>\n",
              "<table border=\"1\" class=\"dataframe\">\n",
              "  <thead>\n",
              "    <tr style=\"text-align: right;\">\n",
              "      <th></th>\n",
              "      <th>S&amp;P 500</th>\n",
              "      <th>VIX Index</th>\n",
              "      <th>WTI Crude Oil</th>\n",
              "      <th>Dollar Index</th>\n",
              "      <th>10Y Treasury Yield</th>\n",
              "    </tr>\n",
              "    <tr>\n",
              "      <th>Date</th>\n",
              "      <th></th>\n",
              "      <th></th>\n",
              "      <th></th>\n",
              "      <th></th>\n",
              "      <th></th>\n",
              "    </tr>\n",
              "  </thead>\n",
              "  <tbody>\n",
              "    <tr>\n",
              "      <th>2020-01-03</th>\n",
              "      <td>-0.007085</td>\n",
              "      <td>0.117159</td>\n",
              "      <td>0.030108</td>\n",
              "      <td>-0.000103</td>\n",
              "      <td>-0.051237</td>\n",
              "    </tr>\n",
              "    <tr>\n",
              "      <th>2020-01-06</th>\n",
              "      <td>0.003527</td>\n",
              "      <td>-0.012200</td>\n",
              "      <td>0.003483</td>\n",
              "      <td>-0.001757</td>\n",
              "      <td>0.012782</td>\n",
              "    </tr>\n",
              "    <tr>\n",
              "      <th>2020-01-07</th>\n",
              "      <td>-0.002807</td>\n",
              "      <td>-0.004342</td>\n",
              "      <td>-0.009050</td>\n",
              "      <td>0.003202</td>\n",
              "      <td>0.008796</td>\n",
              "    </tr>\n",
              "    <tr>\n",
              "      <th>2020-01-08</th>\n",
              "      <td>0.004890</td>\n",
              "      <td>-0.024965</td>\n",
              "      <td>-0.050538</td>\n",
              "      <td>0.003294</td>\n",
              "      <td>0.025400</td>\n",
              "    </tr>\n",
              "    <tr>\n",
              "      <th>2020-01-09</th>\n",
              "      <td>0.006633</td>\n",
              "      <td>-0.070056</td>\n",
              "      <td>-0.000839</td>\n",
              "      <td>0.001540</td>\n",
              "      <td>-0.008574</td>\n",
              "    </tr>\n",
              "  </tbody>\n",
              "</table>\n",
              "</div>"
            ],
            "text/plain": [
              "             S&P 500  VIX Index  WTI Crude Oil  Dollar Index  \\\n",
              "Date                                                           \n",
              "2020-01-03 -0.007085   0.117159       0.030108     -0.000103   \n",
              "2020-01-06  0.003527  -0.012200       0.003483     -0.001757   \n",
              "2020-01-07 -0.002807  -0.004342      -0.009050      0.003202   \n",
              "2020-01-08  0.004890  -0.024965      -0.050538      0.003294   \n",
              "2020-01-09  0.006633  -0.070056      -0.000839      0.001540   \n",
              "\n",
              "            10Y Treasury Yield  \n",
              "Date                            \n",
              "2020-01-03           -0.051237  \n",
              "2020-01-06            0.012782  \n",
              "2020-01-07            0.008796  \n",
              "2020-01-08            0.025400  \n",
              "2020-01-09           -0.008574  "
            ]
          },
          "execution_count": 27,
          "metadata": {},
          "output_type": "execute_result"
        }
      ],
      "source": [
        "# Compute log returns\n",
        "log_returns = np.log(df / df.shift(1)).dropna()\n",
        "\n",
        "# Display transformed dataset\n",
        "log_returns.head()\n"
      ]
    },
    {
      "cell_type": "markdown",
      "metadata": {
        "id": "2bpWJonbIws7"
      },
      "source": [
        "#### Normalize Data for HMM Training\n",
        "HMMs perform better when input features are normalized to avoid bias toward high-magnitude values."
      ]
    },
    {
      "cell_type": "code",
      "execution_count": null,
      "metadata": {
        "id": "oq8Rszn6Iws7",
        "outputId": "ac207e5c-eddf-44a5-ed5e-3958febf4d9a"
      },
      "outputs": [
        {
          "data": {
            "text/html": [
              "<div>\n",
              "<style scoped>\n",
              "    .dataframe tbody tr th:only-of-type {\n",
              "        vertical-align: middle;\n",
              "    }\n",
              "\n",
              "    .dataframe tbody tr th {\n",
              "        vertical-align: top;\n",
              "    }\n",
              "\n",
              "    .dataframe thead th {\n",
              "        text-align: right;\n",
              "    }\n",
              "</style>\n",
              "<table border=\"1\" class=\"dataframe\">\n",
              "  <thead>\n",
              "    <tr style=\"text-align: right;\">\n",
              "      <th></th>\n",
              "      <th>S&amp;P 500</th>\n",
              "      <th>VIX Index</th>\n",
              "      <th>WTI Crude Oil</th>\n",
              "      <th>Dollar Index</th>\n",
              "      <th>10Y Treasury Yield</th>\n",
              "    </tr>\n",
              "    <tr>\n",
              "      <th>Date</th>\n",
              "      <th></th>\n",
              "      <th></th>\n",
              "      <th></th>\n",
              "      <th></th>\n",
              "      <th></th>\n",
              "    </tr>\n",
              "  </thead>\n",
              "  <tbody>\n",
              "    <tr>\n",
              "      <th>2020-01-03</th>\n",
              "      <td>-0.601615</td>\n",
              "      <td>1.606946</td>\n",
              "      <td>0.767996</td>\n",
              "      <td>-0.032205</td>\n",
              "      <td>-1.221402</td>\n",
              "    </tr>\n",
              "    <tr>\n",
              "      <th>2020-01-06</th>\n",
              "      <td>0.253711</td>\n",
              "      <td>-0.167305</td>\n",
              "      <td>0.085287</td>\n",
              "      <td>-0.391395</td>\n",
              "      <td>0.283646</td>\n",
              "    </tr>\n",
              "    <tr>\n",
              "      <th>2020-01-07</th>\n",
              "      <td>-0.256832</td>\n",
              "      <td>-0.059526</td>\n",
              "      <td>-0.236088</td>\n",
              "      <td>0.685643</td>\n",
              "      <td>0.189952</td>\n",
              "    </tr>\n",
              "    <tr>\n",
              "      <th>2020-01-08</th>\n",
              "      <td>0.363594</td>\n",
              "      <td>-0.342386</td>\n",
              "      <td>-1.299937</td>\n",
              "      <td>0.705735</td>\n",
              "      <td>0.580297</td>\n",
              "    </tr>\n",
              "    <tr>\n",
              "      <th>2020-01-09</th>\n",
              "      <td>0.504058</td>\n",
              "      <td>-0.960842</td>\n",
              "      <td>-0.025548</td>\n",
              "      <td>0.324799</td>\n",
              "      <td>-0.218422</td>\n",
              "    </tr>\n",
              "  </tbody>\n",
              "</table>\n",
              "</div>"
            ],
            "text/plain": [
              "             S&P 500  VIX Index  WTI Crude Oil  Dollar Index  \\\n",
              "Date                                                           \n",
              "2020-01-03 -0.601615   1.606946       0.767996     -0.032205   \n",
              "2020-01-06  0.253711  -0.167305       0.085287     -0.391395   \n",
              "2020-01-07 -0.256832  -0.059526      -0.236088      0.685643   \n",
              "2020-01-08  0.363594  -0.342386      -1.299937      0.705735   \n",
              "2020-01-09  0.504058  -0.960842      -0.025548      0.324799   \n",
              "\n",
              "            10Y Treasury Yield  \n",
              "Date                            \n",
              "2020-01-03           -1.221402  \n",
              "2020-01-06            0.283646  \n",
              "2020-01-07            0.189952  \n",
              "2020-01-08            0.580297  \n",
              "2020-01-09           -0.218422  "
            ]
          },
          "execution_count": 28,
          "metadata": {},
          "output_type": "execute_result"
        }
      ],
      "source": [
        "from sklearn.preprocessing import StandardScaler\n",
        "\n",
        "# Normalize log returns\n",
        "scaler = StandardScaler()\n",
        "X = scaler.fit_transform(log_returns)\n",
        "\n",
        "# Display normalized dataset\n",
        "pd.DataFrame(X, index=log_returns.index, columns=log_returns.columns).head()\n"
      ]
    },
    {
      "cell_type": "markdown",
      "metadata": {
        "id": "cDitsMM3Iws7"
      },
      "source": [
        "#### Train Hidden Markov Model (HMM) for Regime Detection"
      ]
    },
    {
      "cell_type": "code",
      "execution_count": null,
      "metadata": {
        "id": "bKTWHbw9Iws8",
        "outputId": "92034fab-e554-4766-ccdd-4f33e39dcc94"
      },
      "outputs": [
        {
          "data": {
            "text/html": [
              "<div>\n",
              "<style scoped>\n",
              "    .dataframe tbody tr th:only-of-type {\n",
              "        vertical-align: middle;\n",
              "    }\n",
              "\n",
              "    .dataframe tbody tr th {\n",
              "        vertical-align: top;\n",
              "    }\n",
              "\n",
              "    .dataframe thead th {\n",
              "        text-align: right;\n",
              "    }\n",
              "</style>\n",
              "<table border=\"1\" class=\"dataframe\">\n",
              "  <thead>\n",
              "    <tr style=\"text-align: right;\">\n",
              "      <th></th>\n",
              "      <th>S&amp;P 500</th>\n",
              "      <th>VIX Index</th>\n",
              "      <th>WTI Crude Oil</th>\n",
              "      <th>Dollar Index</th>\n",
              "      <th>10Y Treasury Yield</th>\n",
              "      <th>Market Regime</th>\n",
              "    </tr>\n",
              "    <tr>\n",
              "      <th>Date</th>\n",
              "      <th></th>\n",
              "      <th></th>\n",
              "      <th></th>\n",
              "      <th></th>\n",
              "      <th></th>\n",
              "      <th></th>\n",
              "    </tr>\n",
              "  </thead>\n",
              "  <tbody>\n",
              "    <tr>\n",
              "      <th>2020-01-03</th>\n",
              "      <td>-0.007085</td>\n",
              "      <td>0.117159</td>\n",
              "      <td>0.030108</td>\n",
              "      <td>-0.000103</td>\n",
              "      <td>-0.051237</td>\n",
              "      <td>1</td>\n",
              "    </tr>\n",
              "    <tr>\n",
              "      <th>2020-01-06</th>\n",
              "      <td>0.003527</td>\n",
              "      <td>-0.012200</td>\n",
              "      <td>0.003483</td>\n",
              "      <td>-0.001757</td>\n",
              "      <td>0.012782</td>\n",
              "      <td>1</td>\n",
              "    </tr>\n",
              "    <tr>\n",
              "      <th>2020-01-07</th>\n",
              "      <td>-0.002807</td>\n",
              "      <td>-0.004342</td>\n",
              "      <td>-0.009050</td>\n",
              "      <td>0.003202</td>\n",
              "      <td>0.008796</td>\n",
              "      <td>1</td>\n",
              "    </tr>\n",
              "    <tr>\n",
              "      <th>2020-01-08</th>\n",
              "      <td>0.004890</td>\n",
              "      <td>-0.024965</td>\n",
              "      <td>-0.050538</td>\n",
              "      <td>0.003294</td>\n",
              "      <td>0.025400</td>\n",
              "      <td>1</td>\n",
              "    </tr>\n",
              "    <tr>\n",
              "      <th>2020-01-09</th>\n",
              "      <td>0.006633</td>\n",
              "      <td>-0.070056</td>\n",
              "      <td>-0.000839</td>\n",
              "      <td>0.001540</td>\n",
              "      <td>-0.008574</td>\n",
              "      <td>1</td>\n",
              "    </tr>\n",
              "  </tbody>\n",
              "</table>\n",
              "</div>"
            ],
            "text/plain": [
              "             S&P 500  VIX Index  WTI Crude Oil  Dollar Index  \\\n",
              "Date                                                           \n",
              "2020-01-03 -0.007085   0.117159       0.030108     -0.000103   \n",
              "2020-01-06  0.003527  -0.012200       0.003483     -0.001757   \n",
              "2020-01-07 -0.002807  -0.004342      -0.009050      0.003202   \n",
              "2020-01-08  0.004890  -0.024965      -0.050538      0.003294   \n",
              "2020-01-09  0.006633  -0.070056      -0.000839      0.001540   \n",
              "\n",
              "            10Y Treasury Yield  Market Regime  \n",
              "Date                                           \n",
              "2020-01-03           -0.051237              1  \n",
              "2020-01-06            0.012782              1  \n",
              "2020-01-07            0.008796              1  \n",
              "2020-01-08            0.025400              1  \n",
              "2020-01-09           -0.008574              1  "
            ]
          },
          "execution_count": 29,
          "metadata": {},
          "output_type": "execute_result"
        }
      ],
      "source": [
        "from hmmlearn.hmm import GaussianHMM\n",
        "\n",
        "# Train HMM with 3 hidden states (Bull, Bear, Stagnant)\n",
        "hmm = GaussianHMM(n_components=3, covariance_type=\"full\", n_iter=1000)\n",
        "hmm.fit(X)\n",
        "\n",
        "# Predict market regimes\n",
        "hidden_states = hmm.predict(X)\n",
        "\n",
        "# Add hidden states to the DataFrame\n",
        "log_returns[\"Market Regime\"] = hidden_states\n",
        "\n",
        "# Display sample output\n",
        "log_returns.head()\n"
      ]
    },
    {
      "cell_type": "markdown",
      "metadata": {
        "id": "VDupZAV0Iws8"
      },
      "source": [
        "### 5. Visualizing Market Regimes"
      ]
    },
    {
      "cell_type": "code",
      "execution_count": null,
      "metadata": {
        "id": "gukniebwIws9",
        "outputId": "7b5bb012-ef84-4957-e36b-56c2400c3d84"
      },
      "outputs": [
        {
          "data": {
            "image/png": "[encoded data removed]",
            "text/plain": [
              "<Figure size 1008x432 with 1 Axes>"
            ]
          },
          "metadata": {},
          "output_type": "display_data"
        }
      ],
      "source": [
        "\n",
        "# Define color mapping for regimes\n",
        "state_colors = {0: \"green\", 1: \"red\", 2: \"blue\"}  # 0 = Bull, 1 = Bear, 2 = Stagnant\n",
        "\n",
        "# Create a DataFrame for plotting\n",
        "df_plot = pd.DataFrame({\n",
        "    'Date': log_returns.index,\n",
        "    'S&P 500 Returns': log_returns[\"S&P 500\"],\n",
        "    'Regime': hidden_states\n",
        "})\n",
        "\n",
        "# Plot market regimes\n",
        "plt.figure(figsize=(14,6))\n",
        "sns.lineplot(data=df_plot, x=\"Date\", y=\"S&P 500 Returns\", color=\"gray\", alpha=0.6, label=\"S&P 500 Returns\")\n",
        "\n",
        "# Overlay regimes with color-coded shading\n",
        "for regime, color in state_colors.items():\n",
        "    plt.fill_between(df_plot[\"Date\"], df_plot[\"S&P 500 Returns\"], where=(df_plot[\"Regime\"] == regime), color=color, alpha=0.3, label=f\"Regime {regime}\")\n",
        "\n",
        "# Labels\n",
        "plt.title(\"HMM-Based Market Regime Detection\", fontsize=14)\n",
        "plt.xlabel(\"Date\", fontsize=12)\n",
        "plt.ylabel(\"S&P 500 Returns\", fontsize=12)\n",
        "plt.legend()\n",
        "plt.show()\n"
      ]
    },
    {
      "cell_type": "markdown",
      "metadata": {
        "id": "4g9eVax1Iws9"
      },
      "source": [
        "In this step,\n",
        "- We have cleaned the dataset, structured, and made it ready for HMM training.\n",
        "- Log returns and normalization improve accuracy.\n",
        "- HMM successfully detects bull, bear, and stagnant regimes."
      ]
    },
    {
      "cell_type": "markdown",
      "source": [],
      "metadata": {
        "id": "_kJtYVl4fPKo"
      }
    },
    {
      "cell_type": "code",
      "source": [
        "import numpy as np\n",
        "\n",
        "def forward_algorithm(observations, A, B, pi):\n",
        "    \"\"\"\n",
        "    Implements the forward algorithm for Hidden Markov Models (HMMs).\n",
        "\n",
        "    Parameters:\n",
        "        observations (list): Sequence of observed data points.\n",
        "        A (ndarray): Transition probability matrix (NxN).\n",
        "        B (ndarray): Emission probability matrix (NxM).\n",
        "        pi (ndarray): Initial state distribution (N).\n",
        "\n",
        "    Returns:\n",
        "        alpha (ndarray): Forward probabilities (TxN).\n",
        "        prob_observation (float): Probability of the observation sequence.\n",
        "    \"\"\"\n",
        "    T = len(observations)  # Length of the observation sequence\n",
        "    N = A.shape[0]         # Number of hidden states\n",
        "\n",
        "    # Initialize the forward probabilities\n",
        "    alpha = np.zeros((T, N))\n",
        "    for j in range(N):\n",
        "        alpha[0][j] = pi[j] * B[j][observations[0]]\n",
        "\n",
        "    # Recursion step\n",
        "    for t in range(1, T):\n",
        "        for j in range(N):\n",
        "            alpha[t][j] = np.sum(alpha[t-1] * A[:, j]) * B[j][observations[t]]\n",
        "\n",
        "    # Termination step\n",
        "    prob_observation = np.sum(alpha[T-1])\n",
        "\n",
        "    return alpha, prob_observation"
      ],
      "metadata": {
        "id": "9hEBPq_qfSCl"
      },
      "execution_count": null,
      "outputs": []
    },
    {
      "cell_type": "markdown",
      "metadata": {
        "id": "mFMmB1PaIws-"
      },
      "source": [
        "## Step 5: Data Analysis and Model Refinement    \n",
        "  \n",
        "#### Introduction\n",
        "Now that we have cleaned, structured, and preprocessed our financial dataset (Step 4), we move on to:\n",
        "- Analyzing the trained Hidden Markov Model (HMM) and its performance.\n",
        "- Refining the model to ensure that market regime classification is meaningful.\n",
        "- Interpreting regime characteristics using statistical properties.\n",
        "- Validating the results with visualizations and empirical insights.\n",
        "\n",
        "A well-tuned HMM should identify market regimes correctly, allowing us to distinguish between bull, bear, and stagnant phases with confidence."
      ]
    },
    {
      "cell_type": "markdown",
      "metadata": {
        "id": "DRQhMPqLIws-"
      },
      "source": [
        "### 1. Evaluating the Hidden Markov Model (HMM)\n",
        "Once we have trained our HMM, the first step is to analyze how well it captures market regimes. The key aspects to evaluate include:\n",
        "\n",
        "#### 1.1. Model Likelihood (Log-Likelihood)\n",
        "The log-likelihood function measures how well the model explains the observed data:  \n",
        "\n",
        "$$\n",
        "\\log P(O | \\lambda) = \\sum_{t=1}^{T} \\log P(O_t | S_t, \\lambda)\n",
        "$$\n",
        "\n",
        "where:  \n",
        "- $( O_t )$ represents observations (market returns)  \n",
        "- $( S_t )$ represents the hidden states (market regimes: bull, bear, stagnant)  \n",
        "- $( \\lambda )$ represents the HMM parameters (transition matrix $( A )$, emission matrix $( B )$, initial probabilities $ ( \\pi ))$  \n",
        "  \n",
        "\n",
        "A higher log-likelihood means a better model fit.  \n",
        "\n",
        "#### Python Code for Log-Likelihood Evaluation"
      ]
    },
    {
      "cell_type": "code",
      "execution_count": null,
      "metadata": {
        "id": "VDKnOSiLIws_",
        "outputId": "4bfffef4-29c0-4391-f3b3-188435e641a9"
      },
      "outputs": [
        {
          "name": "stdout",
          "output_type": "stream",
          "text": [
            "Log-Likelihood of the HMM Model: -5555.84\n"
          ]
        }
      ],
      "source": [
        "# Compute log-likelihood of the trained HMM\n",
        "log_likelihood = hmm.score(X)\n",
        "print(f\"Log-Likelihood of the HMM Model: {log_likelihood:.2f}\")\n"
      ]
    },
    {
      "cell_type": "markdown",
      "source": [
        "## Step 9: Minimal Working Example - Hill Climbing Search"
      ],
      "metadata": {
        "id": "xaVSuH3epYWc"
      }
    },
    {
      "cell_type": "code",
      "source": [
        "pip install pgmpy"
      ],
      "metadata": {
        "colab": {
          "base_uri": "https://localhost:8080/"
        },
        "id": "7aslt2DxqQ1q",
        "outputId": "8ba28c23-6f07-437b-e89f-9d4f3dcda9aa"
      },
      "execution_count": null,
      "outputs": [
        {
          "output_type": "stream",
          "name": "stdout",
          "text": [
            "Collecting pgmpy\n",
            "  Downloading pgmpy-0.1.26-py3-none-any.whl.metadata (9.1 kB)\n",
            "Requirement already satisfied: networkx in /usr/local/lib/python3.11/dist-packages (from pgmpy) (3.4.2)\n",
            "Requirement already satisfied: numpy in /usr/local/lib/python3.11/dist-packages (from pgmpy) (1.26.4)\n",
            "Requirement already satisfied: scipy in /usr/local/lib/python3.11/dist-packages (from pgmpy) (1.13.1)\n",
            "Requirement already satisfied: scikit-learn in /usr/local/lib/python3.11/dist-packages (from pgmpy) (1.6.1)\n",
            "Requirement already satisfied: pandas in /usr/local/lib/python3.11/dist-packages (from pgmpy) (2.2.2)\n",
            "Requirement already satisfied: pyparsing in /usr/local/lib/python3.11/dist-packages (from pgmpy) (3.2.1)\n",
            "Requirement already satisfied: torch in /usr/local/lib/python3.11/dist-packages (from pgmpy) (2.5.1+cu124)\n",
            "Requirement already satisfied: statsmodels in /usr/local/lib/python3.11/dist-packages (from pgmpy) (0.14.4)\n",
            "Requirement already satisfied: tqdm in /usr/local/lib/python3.11/dist-packages (from pgmpy) (4.67.1)\n",
            "Requirement already satisfied: joblib in /usr/local/lib/python3.11/dist-packages (from pgmpy) (1.4.2)\n",
            "Requirement already satisfied: opt-einsum in /usr/local/lib/python3.11/dist-packages (from pgmpy) (3.4.0)\n",
            "Requirement already satisfied: xgboost in /usr/local/lib/python3.11/dist-packages (from pgmpy) (2.1.3)\n",
            "Requirement already satisfied: google-generativeai in /usr/local/lib/python3.11/dist-packages (from pgmpy) (0.8.4)\n",
            "Requirement already satisfied: google-ai-generativelanguage==0.6.15 in /usr/local/lib/python3.11/dist-packages (from google-generativeai->pgmpy) (0.6.15)\n",
            "Requirement already satisfied: google-api-core in /usr/local/lib/python3.11/dist-packages (from google-generativeai->pgmpy) (2.19.2)\n",
            "Requirement already satisfied: google-api-python-client in /usr/local/lib/python3.11/dist-packages (from google-generativeai->pgmpy) (2.160.0)\n",
            "Requirement already satisfied: google-auth>=2.15.0 in /usr/local/lib/python3.11/dist-packages (from google-generativeai->pgmpy) (2.27.0)\n",
            "Requirement already satisfied: protobuf in /usr/local/lib/python3.11/dist-packages (from google-generativeai->pgmpy) (4.25.6)\n",
            "Requirement already satisfied: pydantic in /usr/local/lib/python3.11/dist-packages (from google-generativeai->pgmpy) (2.10.6)\n",
            "Requirement already satisfied: typing-extensions in /usr/local/lib/python3.11/dist-packages (from google-generativeai->pgmpy) (4.12.2)\n",
            "Requirement already satisfied: proto-plus<2.0.0dev,>=1.22.3 in /usr/local/lib/python3.11/dist-packages (from google-ai-generativelanguage==0.6.15->google-generativeai->pgmpy) (1.26.0)\n",
            "Requirement already satisfied: python-dateutil>=2.8.2 in /usr/local/lib/python3.11/dist-packages (from pandas->pgmpy) (2.8.2)\n",
            "Requirement already satisfied: pytz>=2020.1 in /usr/local/lib/python3.11/dist-packages (from pandas->pgmpy) (2025.1)\n",
            "Requirement already satisfied: tzdata>=2022.7 in /usr/local/lib/python3.11/dist-packages (from pandas->pgmpy) (2025.1)\n",
            "Requirement already satisfied: threadpoolctl>=3.1.0 in /usr/local/lib/python3.11/dist-packages (from scikit-learn->pgmpy) (3.5.0)\n",
            "Requirement already satisfied: patsy>=0.5.6 in /usr/local/lib/python3.11/dist-packages (from statsmodels->pgmpy) (1.0.1)\n",
            "Requirement already satisfied: packaging>=21.3 in /usr/local/lib/python3.11/dist-packages (from statsmodels->pgmpy) (24.2)\n",
            "Requirement already satisfied: filelock in /usr/local/lib/python3.11/dist-packages (from torch->pgmpy) (3.17.0)\n",
            "Requirement already satisfied: jinja2 in /usr/local/lib/python3.11/dist-packages (from torch->pgmpy) (3.1.5)\n",
            "Requirement already satisfied: fsspec in /usr/local/lib/python3.11/dist-packages (from torch->pgmpy) (2024.10.0)\n",
            "Collecting nvidia-cuda-nvrtc-cu12==12.4.127 (from torch->pgmpy)\n",
            "  Downloading nvidia_cuda_nvrtc_cu12-12.4.127-py3-none-manylinux2014_x86_64.whl.metadata (1.5 kB)\n",
            "Collecting nvidia-cuda-runtime-cu12==12.4.127 (from torch->pgmpy)\n",
            "  Downloading nvidia_cuda_runtime_cu12-12.4.127-py3-none-manylinux2014_x86_64.whl.metadata (1.5 kB)\n",
            "Collecting nvidia-cuda-cupti-cu12==12.4.127 (from torch->pgmpy)\n",
            "  Downloading nvidia_cuda_cupti_cu12-12.4.127-py3-none-manylinux2014_x86_64.whl.metadata (1.6 kB)\n",
            "Collecting nvidia-cudnn-cu12==9.1.0.70 (from torch->pgmpy)\n",
            "  Downloading nvidia_cudnn_cu12-9.1.0.70-py3-none-manylinux2014_x86_64.whl.metadata (1.6 kB)\n",
            "Collecting nvidia-cublas-cu12==12.4.5.8 (from torch->pgmpy)\n",
            "  Downloading nvidia_cublas_cu12-12.4.5.8-py3-none-manylinux2014_x86_64.whl.metadata (1.5 kB)\n",
            "Collecting nvidia-cufft-cu12==11.2.1.3 (from torch->pgmpy)\n",
            "  Downloading nvidia_cufft_cu12-11.2.1.3-py3-none-manylinux2014_x86_64.whl.metadata (1.5 kB)\n",
            "Collecting nvidia-curand-cu12==10.3.5.147 (from torch->pgmpy)\n",
            "  Downloading nvidia_curand_cu12-10.3.5.147-py3-none-manylinux2014_x86_64.whl.metadata (1.5 kB)\n",
            "Collecting nvidia-cusolver-cu12==11.6.1.9 (from torch->pgmpy)\n",
            "  Downloading nvidia_cusolver_cu12-11.6.1.9-py3-none-manylinux2014_x86_64.whl.metadata (1.6 kB)\n",
            "Collecting nvidia-cusparse-cu12==12.3.1.170 (from torch->pgmpy)\n",
            "  Downloading nvidia_cusparse_cu12-12.3.1.170-py3-none-manylinux2014_x86_64.whl.metadata (1.6 kB)\n",
            "Requirement already satisfied: nvidia-nccl-cu12==2.21.5 in /usr/local/lib/python3.11/dist-packages (from torch->pgmpy) (2.21.5)\n",
            "Requirement already satisfied: nvidia-nvtx-cu12==12.4.127 in /usr/local/lib/python3.11/dist-packages (from torch->pgmpy) (12.4.127)\n",
            "Collecting nvidia-nvjitlink-cu12==12.4.127 (from torch->pgmpy)\n",
            "  Downloading nvidia_nvjitlink_cu12-12.4.127-py3-none-manylinux2014_x86_64.whl.metadata (1.5 kB)\n",
            "Requirement already satisfied: triton==3.1.0 in /usr/local/lib/python3.11/dist-packages (from torch->pgmpy) (3.1.0)\n",
            "Requirement already satisfied: sympy==1.13.1 in /usr/local/lib/python3.11/dist-packages (from torch->pgmpy) (1.13.1)\n",
            "Requirement already satisfied: mpmath<1.4,>=1.1.0 in /usr/local/lib/python3.11/dist-packages (from sympy==1.13.1->torch->pgmpy) (1.3.0)\n",
            "Requirement already satisfied: googleapis-common-protos<2.0.dev0,>=1.56.2 in /usr/local/lib/python3.11/dist-packages (from google-api-core->google-generativeai->pgmpy) (1.66.0)\n",
            "Requirement already satisfied: requests<3.0.0.dev0,>=2.18.0 in /usr/local/lib/python3.11/dist-packages (from google-api-core->google-generativeai->pgmpy) (2.32.3)\n",
            "Requirement already satisfied: cachetools<6.0,>=2.0.0 in /usr/local/lib/python3.11/dist-packages (from google-auth>=2.15.0->google-generativeai->pgmpy) (5.5.1)\n",
            "Requirement already satisfied: pyasn1-modules>=0.2.1 in /usr/local/lib/python3.11/dist-packages (from google-auth>=2.15.0->google-generativeai->pgmpy) (0.4.1)\n",
            "Requirement already satisfied: rsa<5,>=3.1.4 in /usr/local/lib/python3.11/dist-packages (from google-auth>=2.15.0->google-generativeai->pgmpy) (4.9)\n",
            "Requirement already satisfied: six>=1.5 in /usr/local/lib/python3.11/dist-packages (from python-dateutil>=2.8.2->pandas->pgmpy) (1.17.0)\n",
            "Requirement already satisfied: httplib2<1.dev0,>=0.19.0 in /usr/local/lib/python3.11/dist-packages (from google-api-python-client->google-generativeai->pgmpy) (0.22.0)\n",
            "Requirement already satisfied: google-auth-httplib2<1.0.0,>=0.2.0 in /usr/local/lib/python3.11/dist-packages (from google-api-python-client->google-generativeai->pgmpy) (0.2.0)\n",
            "Requirement already satisfied: uritemplate<5,>=3.0.1 in /usr/local/lib/python3.11/dist-packages (from google-api-python-client->google-generativeai->pgmpy) (4.1.1)\n",
            "Requirement already satisfied: MarkupSafe>=2.0 in /usr/local/lib/python3.11/dist-packages (from jinja2->torch->pgmpy) (3.0.2)\n",
            "Requirement already satisfied: annotated-types>=0.6.0 in /usr/local/lib/python3.11/dist-packages (from pydantic->google-generativeai->pgmpy) (0.7.0)\n",
            "Requirement already satisfied: pydantic-core==2.27.2 in /usr/local/lib/python3.11/dist-packages (from pydantic->google-generativeai->pgmpy) (2.27.2)\n",
            "Requirement already satisfied: grpcio<2.0dev,>=1.33.2 in /usr/local/lib/python3.11/dist-packages (from google-api-core[grpc]!=2.0.*,!=2.1.*,!=2.10.*,!=2.2.*,!=2.3.*,!=2.4.*,!=2.5.*,!=2.6.*,!=2.7.*,!=2.8.*,!=2.9.*,<3.0.0dev,>=1.34.1->google-ai-generativelanguage==0.6.15->google-generativeai->pgmpy) (1.70.0)\n",
            "Requirement already satisfied: grpcio-status<2.0.dev0,>=1.33.2 in /usr/local/lib/python3.11/dist-packages (from google-api-core[grpc]!=2.0.*,!=2.1.*,!=2.10.*,!=2.2.*,!=2.3.*,!=2.4.*,!=2.5.*,!=2.6.*,!=2.7.*,!=2.8.*,!=2.9.*,<3.0.0dev,>=1.34.1->google-ai-generativelanguage==0.6.15->google-generativeai->pgmpy) (1.62.3)\n",
            "Requirement already satisfied: pyasn1<0.7.0,>=0.4.6 in /usr/local/lib/python3.11/dist-packages (from pyasn1-modules>=0.2.1->google-auth>=2.15.0->google-generativeai->pgmpy) (0.6.1)\n",
            "Requirement already satisfied: charset-normalizer<4,>=2 in /usr/local/lib/python3.11/dist-packages (from requests<3.0.0.dev0,>=2.18.0->google-api-core->google-generativeai->pgmpy) (3.4.1)\n",
            "Requirement already satisfied: idna<4,>=2.5 in /usr/local/lib/python3.11/dist-packages (from requests<3.0.0.dev0,>=2.18.0->google-api-core->google-generativeai->pgmpy) (3.10)\n",
            "Requirement already satisfied: urllib3<3,>=1.21.1 in /usr/local/lib/python3.11/dist-packages (from requests<3.0.0.dev0,>=2.18.0->google-api-core->google-generativeai->pgmpy) (2.3.0)\n",
            "Requirement already satisfied: certifi>=2017.4.17 in /usr/local/lib/python3.11/dist-packages (from requests<3.0.0.dev0,>=2.18.0->google-api-core->google-generativeai->pgmpy) (2025.1.31)\n",
            "Downloading pgmpy-0.1.26-py3-none-any.whl (2.0 MB)\n",
            "\u001b[2K   \u001b[90m━━━━━━━━━━━━━━━━━━━━━━━━━━━━━━━━━━━━━━━━\u001b[0m \u001b[32m2.0/2.0 MB\u001b[0m \u001b[31m34.3 MB/s\u001b[0m eta \u001b[36m0:00:00\u001b[0m\n",
            "\u001b[?25hDownloading nvidia_cublas_cu12-12.4.5.8-py3-none-manylinux2014_x86_64.whl (363.4 MB)\n",
            "\u001b[2K   \u001b[90m━━━━━━━━━━━━━━━━━━━━━━━━━━━━━━━━━━━━━━━━\u001b[0m \u001b[32m363.4/363.4 MB\u001b[0m \u001b[31m946.5 kB/s\u001b[0m eta \u001b[36m0:00:00\u001b[0m\n",
            "\u001b[?25hDownloading nvidia_cuda_cupti_cu12-12.4.127-py3-none-manylinux2014_x86_64.whl (13.8 MB)\n",
            "\u001b[2K   \u001b[90m━━━━━━━━━━━━━━━━━━━━━━━━━━━━━━━━━━━━━━━━\u001b[0m \u001b[32m13.8/13.8 MB\u001b[0m \u001b[31m76.6 MB/s\u001b[0m eta \u001b[36m0:00:00\u001b[0m\n",
            "\u001b[?25hDownloading nvidia_cuda_nvrtc_cu12-12.4.127-py3-none-manylinux2014_x86_64.whl (24.6 MB)\n",
            "\u001b[2K   \u001b[90m━━━━━━━━━━━━━━━━━━━━━━━━━━━━━━━━━━━━━━━━\u001b[0m \u001b[32m24.6/24.6 MB\u001b[0m \u001b[31m63.4 MB/s\u001b[0m eta \u001b[36m0:00:00\u001b[0m\n",
            "\u001b[?25hDownloading nvidia_cuda_runtime_cu12-12.4.127-py3-none-manylinux2014_x86_64.whl (883 kB)\n",
            "\u001b[2K   \u001b[90m━━━━━━━━━━━━━━━━━━━━━━━━━━━━━━━━━━━━━━━━\u001b[0m \u001b[32m883.7/883.7 kB\u001b[0m \u001b[31m39.9 MB/s\u001b[0m eta \u001b[36m0:00:00\u001b[0m\n",
            "\u001b[?25hDownloading nvidia_cudnn_cu12-9.1.0.70-py3-none-manylinux2014_x86_64.whl (664.8 MB)\n",
            "\u001b[2K   \u001b[90m━━━━━━━━━━━━━━━━━━━━━━━━━━━━━━━━━━━━━━━━\u001b[0m \u001b[32m664.8/664.8 MB\u001b[0m \u001b[31m776.5 kB/s\u001b[0m eta \u001b[36m0:00:00\u001b[0m\n",
            "\u001b[?25hDownloading nvidia_cufft_cu12-11.2.1.3-py3-none-manylinux2014_x86_64.whl (211.5 MB)\n",
            "\u001b[2K   \u001b[90m━━━━━━━━━━━━━━━━━━━━━━━━━━━━━━━━━━━━━━━━\u001b[0m \u001b[32m211.5/211.5 MB\u001b[0m \u001b[31m4.7 MB/s\u001b[0m eta \u001b[36m0:00:00\u001b[0m\n",
            "\u001b[?25hDownloading nvidia_curand_cu12-10.3.5.147-py3-none-manylinux2014_x86_64.whl (56.3 MB)\n",
            "\u001b[2K   \u001b[90m━━━━━━━━━━━━━━━━━━━━━━━━━━━━━━━━━━━━━━━━\u001b[0m \u001b[32m56.3/56.3 MB\u001b[0m \u001b[31m10.0 MB/s\u001b[0m eta \u001b[36m0:00:00\u001b[0m\n",
            "\u001b[?25hDownloading nvidia_cusolver_cu12-11.6.1.9-py3-none-manylinux2014_x86_64.whl (127.9 MB)\n",
            "\u001b[2K   \u001b[90m━━━━━━━━━━━━━━━━━━━━━━━━━━━━━━━━━━━━━━━━\u001b[0m \u001b[32m127.9/127.9 MB\u001b[0m \u001b[31m7.3 MB/s\u001b[0m eta \u001b[36m0:00:00\u001b[0m\n",
            "\u001b[?25hDownloading nvidia_cusparse_cu12-12.3.1.170-py3-none-manylinux2014_x86_64.whl (207.5 MB)\n",
            "\u001b[2K   \u001b[90m━━━━━━━━━━━━━━━━━━━━━━━━━━━━━━━━━━━━━━━━\u001b[0m \u001b[32m207.5/207.5 MB\u001b[0m \u001b[31m6.3 MB/s\u001b[0m eta \u001b[36m0:00:00\u001b[0m\n",
            "\u001b[?25hDownloading nvidia_nvjitlink_cu12-12.4.127-py3-none-manylinux2014_x86_64.whl (21.1 MB)\n",
            "\u001b[2K   \u001b[90m━━━━━━━━━━━━━━━━━━━━━━━━━━━━━━━━━━━━━━━━\u001b[0m \u001b[32m21.1/21.1 MB\u001b[0m \u001b[31m64.1 MB/s\u001b[0m eta \u001b[36m0:00:00\u001b[0m\n",
            "\u001b[?25hInstalling collected packages: nvidia-nvjitlink-cu12, nvidia-curand-cu12, nvidia-cufft-cu12, nvidia-cuda-runtime-cu12, nvidia-cuda-nvrtc-cu12, nvidia-cuda-cupti-cu12, nvidia-cublas-cu12, nvidia-cusparse-cu12, nvidia-cudnn-cu12, nvidia-cusolver-cu12, pgmpy\n",
            "  Attempting uninstall: nvidia-nvjitlink-cu12\n",
            "    Found existing installation: nvidia-nvjitlink-cu12 12.5.82\n",
            "    Uninstalling nvidia-nvjitlink-cu12-12.5.82:\n",
            "      Successfully uninstalled nvidia-nvjitlink-cu12-12.5.82\n",
            "  Attempting uninstall: nvidia-curand-cu12\n",
            "    Found existing installation: nvidia-curand-cu12 10.3.6.82\n",
            "    Uninstalling nvidia-curand-cu12-10.3.6.82:\n",
            "      Successfully uninstalled nvidia-curand-cu12-10.3.6.82\n",
            "  Attempting uninstall: nvidia-cufft-cu12\n",
            "    Found existing installation: nvidia-cufft-cu12 11.2.3.61\n",
            "    Uninstalling nvidia-cufft-cu12-11.2.3.61:\n",
            "      Successfully uninstalled nvidia-cufft-cu12-11.2.3.61\n",
            "  Attempting uninstall: nvidia-cuda-runtime-cu12\n",
            "    Found existing installation: nvidia-cuda-runtime-cu12 12.5.82\n",
            "    Uninstalling nvidia-cuda-runtime-cu12-12.5.82:\n",
            "      Successfully uninstalled nvidia-cuda-runtime-cu12-12.5.82\n",
            "  Attempting uninstall: nvidia-cuda-nvrtc-cu12\n",
            "    Found existing installation: nvidia-cuda-nvrtc-cu12 12.5.82\n",
            "    Uninstalling nvidia-cuda-nvrtc-cu12-12.5.82:\n",
            "      Successfully uninstalled nvidia-cuda-nvrtc-cu12-12.5.82\n",
            "  Attempting uninstall: nvidia-cuda-cupti-cu12\n",
            "    Found existing installation: nvidia-cuda-cupti-cu12 12.5.82\n",
            "    Uninstalling nvidia-cuda-cupti-cu12-12.5.82:\n",
            "      Successfully uninstalled nvidia-cuda-cupti-cu12-12.5.82\n",
            "  Attempting uninstall: nvidia-cublas-cu12\n",
            "    Found existing installation: nvidia-cublas-cu12 12.5.3.2\n",
            "    Uninstalling nvidia-cublas-cu12-12.5.3.2:\n",
            "      Successfully uninstalled nvidia-cublas-cu12-12.5.3.2\n",
            "  Attempting uninstall: nvidia-cusparse-cu12\n",
            "    Found existing installation: nvidia-cusparse-cu12 12.5.1.3\n",
            "    Uninstalling nvidia-cusparse-cu12-12.5.1.3:\n",
            "      Successfully uninstalled nvidia-cusparse-cu12-12.5.1.3\n",
            "  Attempting uninstall: nvidia-cudnn-cu12\n",
            "    Found existing installation: nvidia-cudnn-cu12 9.3.0.75\n",
            "    Uninstalling nvidia-cudnn-cu12-9.3.0.75:\n",
            "      Successfully uninstalled nvidia-cudnn-cu12-9.3.0.75\n",
            "  Attempting uninstall: nvidia-cusolver-cu12\n",
            "    Found existing installation: nvidia-cusolver-cu12 11.6.3.83\n",
            "    Uninstalling nvidia-cusolver-cu12-11.6.3.83:\n",
            "      Successfully uninstalled nvidia-cusolver-cu12-11.6.3.83\n",
            "Successfully installed nvidia-cublas-cu12-12.4.5.8 nvidia-cuda-cupti-cu12-12.4.127 nvidia-cuda-nvrtc-cu12-12.4.127 nvidia-cuda-runtime-cu12-12.4.127 nvidia-cudnn-cu12-9.1.0.70 nvidia-cufft-cu12-11.2.1.3 nvidia-curand-cu12-10.3.5.147 nvidia-cusolver-cu12-11.6.1.9 nvidia-cusparse-cu12-12.3.1.170 nvidia-nvjitlink-cu12-12.4.127 pgmpy-0.1.26\n"
          ]
        }
      ]
    },
    {
      "cell_type": "code",
      "source": [
        "import random\n",
        "import pandas as pd\n",
        "import numpy as np\n",
        "from pgmpy.estimators import HillClimbSearch, BicScore\n",
        "from pgmpy.models import BayesianNetwork\n",
        "\n",
        "# Generate a structured synthetic dataset\n",
        "np.random.seed(42)\n",
        "n = 100\n",
        "data = pd.DataFrame({\n",
        "    \"A\": np.random.randint(0, 2, n),\n",
        "})\n",
        "# Introduce dependencies\n",
        "# B depends on A\n",
        "data[\"B\"] = data[\"A\"] ^ np.random.randint(0, 2, n)\n",
        "# C depends on A and B\n",
        "data[\"C\"] = data[\"A\"] & data[\"B\"]\n",
        "# D depends on C\n",
        "data[\"D\"] = data[\"C\"] | np.random.randint(0, 2, n)\n",
        "\n",
        "def learn_structure(data):\n",
        "    \"\"\"Learn Bayesian Network structure using Hill Climb search.\"\"\"\n",
        "    hc = HillClimbSearch(data)\n",
        "    best_model = hc.estimate(scoring_method=BicScore(data))\n",
        "    return best_model\n",
        "\n",
        "# Example usage\n",
        "best_model = learn_structure(data)\n",
        "print(\"Learned structure:\", best_model.edges())"
      ],
      "metadata": {
        "colab": {
          "base_uri": "https://localhost:8080/",
          "height": 66,
          "referenced_widgets": [
            "e79b9e390eb14b989256a5d921995a84",
            "146301691bec4456b2c103657221ba33",
            "a0d1e439079c44e8816a5b71b528264c",
            "0ead17bcf71540309ac8f94c8ff7438e",
            "02466c59d07447fa827b6ef646f17145",
            "81d638442dce46bfb6bc1202dfee8402",
            "37770772ac5246de973e151e481674c9",
            "baa6f7f160f04783be3c361700f89350",
            "79ed932045d940b68a61da294b67e381",
            "14dc122f99584bd5b18d3e5e182722d4",
            "d337ea798ab5447bb3398dc108149e6e"
          ]
        },
        "id": "cjI3-V7FqKVx",
        "outputId": "cc8764e3-6460-4857-f628-e6c0a912ac54"
      },
      "execution_count": null,
      "outputs": [
        {
          "output_type": "display_data",
          "data": {
            "text/plain": [
              "  0%|          | 0/1000000 [00:00<?, ?it/s]"
            ],
            "application/vnd.jupyter.widget-view+json": {
              "version_major": 2,
              "version_minor": 0,
              "model_id": "e79b9e390eb14b989256a5d921995a84"
            }
          },
          "metadata": {}
        },
        {
          "output_type": "stream",
          "name": "stdout",
          "text": [
            "Learned structure: [('A', 'B'), ('C', 'B'), ('C', 'A'), ('D', 'C')]\n"
          ]
        }
      ]
    },
    {
      "cell_type": "markdown",
      "source": [],
      "metadata": {
        "id": "G6GTt3ZvwxUv"
      }
    },
    {
      "cell_type": "code",
      "source": [
        "!jupyter nbconvert --to html /content/GWP2_8188_RM.ipynb"
      ],
      "metadata": {
        "colab": {
          "base_uri": "https://localhost:8080/"
        },
        "id": "fSH7n4ufwxxi",
        "outputId": "abdbbbd2-a85a-4a2f-a76d-96f13b7bbe91"
      },
      "execution_count": 2,
      "outputs": [
        {
          "output_type": "stream",
          "name": "stdout",
          "text": [
            "[NbConvertApp] Converting notebook /content/GWP2_8188_RM.ipynb to html\n",
            "Traceback (most recent call last):\n",
            "  File \"/usr/local/bin/jupyter-nbconvert\", line 10, in <module>\n",
            "    sys.exit(main())\n",
            "             ^^^^^^\n",
            "  File \"/usr/local/lib/python3.11/dist-packages/jupyter_core/application.py\", line 283, in launch_instance\n",
            "    super().launch_instance(argv=argv, **kwargs)\n",
            "  File \"/usr/local/lib/python3.11/dist-packages/traitlets/config/application.py\", line 992, in launch_instance\n",
            "    app.start()\n",
            "  File \"/usr/local/lib/python3.11/dist-packages/nbconvert/nbconvertapp.py\", line 420, in start\n",
            "    self.convert_notebooks()\n",
            "  File \"/usr/local/lib/python3.11/dist-packages/nbconvert/nbconvertapp.py\", line 597, in convert_notebooks\n",
            "    self.convert_single_notebook(notebook_filename)\n",
            "  File \"/usr/local/lib/python3.11/dist-packages/nbconvert/nbconvertapp.py\", line 563, in convert_single_notebook\n",
            "    output, resources = self.export_single_notebook(\n",
            "                        ^^^^^^^^^^^^^^^^^^^^^^^^^^^^\n",
            "  File \"/usr/local/lib/python3.11/dist-packages/nbconvert/nbconvertapp.py\", line 487, in export_single_notebook\n",
            "    output, resources = self.exporter.from_filename(\n",
            "                        ^^^^^^^^^^^^^^^^^^^^^^^^^^^^\n",
            "  File \"/usr/local/lib/python3.11/dist-packages/nbconvert/exporters/templateexporter.py\", line 390, in from_filename\n",
            "    return super().from_filename(filename, resources, **kw)  # type:ignore[return-value]\n",
            "           ^^^^^^^^^^^^^^^^^^^^^^^^^^^^^^^^^^^^^^^^^^^^^^^^\n",
            "  File \"/usr/local/lib/python3.11/dist-packages/nbconvert/exporters/exporter.py\", line 201, in from_filename\n",
            "    return self.from_file(f, resources=resources, **kw)\n",
            "           ^^^^^^^^^^^^^^^^^^^^^^^^^^^^^^^^^^^^^^^^^^^^\n",
            "  File \"/usr/local/lib/python3.11/dist-packages/nbconvert/exporters/templateexporter.py\", line 396, in from_file\n",
            "    return super().from_file(file_stream, resources, **kw)  # type:ignore[return-value]\n",
            "           ^^^^^^^^^^^^^^^^^^^^^^^^^^^^^^^^^^^^^^^^^^^^^^^\n",
            "  File \"/usr/local/lib/python3.11/dist-packages/nbconvert/exporters/exporter.py\", line 220, in from_file\n",
            "    return self.from_notebook_node(\n",
            "           ^^^^^^^^^^^^^^^^^^^^^^^^\n",
            "  File \"/usr/local/lib/python3.11/dist-packages/nbconvert/exporters/html.py\", line 278, in from_notebook_node\n",
            "    html, resources = super().from_notebook_node(nb, resources, **kw)\n",
            "                      ^^^^^^^^^^^^^^^^^^^^^^^^^^^^^^^^^^^^^^^^^^^^^^^\n",
            "  File \"/usr/local/lib/python3.11/dist-packages/nbconvert/exporters/templateexporter.py\", line 429, in from_notebook_node\n",
            "    output = self.template.render(nb=nb_copy, resources=resources)\n",
            "             ^^^^^^^^^^^^^^^^^^^^^^^^^^^^^^^^^^^^^^^^^^^^^^^^^^^^^\n",
            "  File \"/usr/local/lib/python3.11/dist-packages/jinja2/environment.py\", line 1295, in render\n",
            "    self.environment.handle_exception()\n",
            "  File \"/usr/local/lib/python3.11/dist-packages/jinja2/environment.py\", line 942, in handle_exception\n",
            "    raise rewrite_traceback_stack(source=source)\n",
            "  File \"/usr/local/share/jupyter/nbconvert/templates/lab/index.html.j2\", line 4, in top-level template code\n",
            "    {% from 'jupyter_widgets.html.j2' import jupyter_widgets %}\n",
            "    ^^^^^^^^^^^^^^^^^^^^^^^^^\n",
            "  File \"/usr/local/share/jupyter/nbconvert/templates/lab/base.html.j2\", line 3, in top-level template code\n",
            "    {% from 'cell_id_anchor.j2' import cell_id_anchor %}\n",
            "    ^^^^^^^^^^^^^^^^^^^^^^^^^\n",
            "  File \"/usr/local/share/jupyter/nbconvert/templates/base/display_priority.j2\", line 1, in top-level template code\n",
            "    {%- extends 'base/null.j2' -%}\n",
            "    ^^^^^^^^^^^^^^^^^^^^^^^^^\n",
            "  File \"/usr/local/share/jupyter/nbconvert/templates/base/null.j2\", line 26, in top-level template code\n",
            "    {%- block body -%}\n",
            "    ^^^^^^^^^^^^^^^^^^^\n",
            "  File \"/usr/local/share/jupyter/nbconvert/templates/base/null.j2\", line 29, in block 'body'\n",
            "    {%- block body_loop -%}\n",
            "^^^^^^^^^^^^^^^^^^^^^^^^^\n",
            "  File \"/usr/local/share/jupyter/nbconvert/templates/base/null.j2\", line 31, in block 'body_loop'\n",
            "    {%- block any_cell scoped -%}\n",
            "^^^^^^^^^^^^^^^^^\n",
            "  File \"/usr/local/share/jupyter/nbconvert/templates/base/null.j2\", line 34, in block 'any_cell'\n",
            "    {%- block codecell scoped -%}\n",
            "^^^^^^^^^\n",
            "  File \"/usr/local/share/jupyter/nbconvert/templates/lab/base.html.j2\", line 13, in block 'codecell'\n",
            "    {{ super() }}\n",
            "    ^^^^^^^^^^^^^^\n",
            "  File \"/usr/local/share/jupyter/nbconvert/templates/base/null.j2\", line 44, in block 'codecell'\n",
            "    {%- block output_group -%}\n",
            "^\n",
            "  File \"/usr/local/share/jupyter/nbconvert/templates/lab/base.html.j2\", line 39, in block 'output_group'\n",
            "    {{ super() }}\n",
            "    ^^^^^^^^^^^^^^\n",
            "  File \"/usr/local/share/jupyter/nbconvert/templates/base/null.j2\", line 48, in block 'output_group'\n",
            "    {%- block outputs scoped -%}\n",
            "\n",
            "  File \"/usr/local/share/jupyter/nbconvert/templates/lab/base.html.j2\", line 45, in block 'outputs'\n",
            "    {{ super() }}\n",
            "    ^^^^^^^^^^^^^^\n",
            "  File \"/usr/local/share/jupyter/nbconvert/templates/base/null.j2\", line 50, in block 'outputs'\n",
            "    {%- block output scoped -%}\n",
            "\n",
            "  File \"/usr/local/share/jupyter/nbconvert/templates/lab/base.html.j2\", line 92, in block 'output'\n",
            "    {{ super() }}\n",
            "    ^^^^^^^^^^^^^^\n",
            "  File \"/usr/local/share/jupyter/nbconvert/templates/base/null.j2\", line 67, in block 'output'\n",
            "    {%- block display_data scoped -%}\n",
            "\n",
            "  File \"/usr/local/share/jupyter/nbconvert/templates/base/null.j2\", line 68, in block 'display_data'\n",
            "    {%- block data_priority scoped -%}\n",
            "\n",
            "  File \"/usr/local/share/jupyter/nbconvert/templates/lab/base.html.j2\", line 131, in block 'data_priority'\n",
            "    {{ super() }}\n",
            "    ^^^^^^^^^^^^^^\n",
            "  File \"/usr/local/share/jupyter/nbconvert/templates/base/display_priority.j2\", line 7, in block 'data_priority'\n",
            "    {%- for type in output.data | filter_data_type -%}\n",
            "^^^^^^^^^^^^^^^^^^^^^^^^^\n",
            "  File \"/usr/local/lib/python3.11/dist-packages/nbconvert/filters/widgetsdatatypefilter.py\", line 58, in __call__\n",
            "    metadata[\"widgets\"][WIDGET_STATE_MIMETYPE][\"state\"]\n",
            "    ~~~~~~~~~~~~~~~~~~~~~~~~~~~~~~~~~~~~~~~~~~^^^^^^^^^\n",
            "KeyError: 'state'\n"
          ]
        }
      ]
    },
    {
      "cell_type": "code",
      "source": [],
      "metadata": {
        "id": "6Hpi4UL0w5uQ"
      },
      "execution_count": null,
      "outputs": []
    }
  ],
  "metadata": {
    "kernelspec": {
      "display_name": "Python 3",
      "language": "python",
      "name": "python3"
    },
    "language_info": {
      "codemirror_mode": {
        "name": "ipython",
        "version": 3
      },
      "file_extension": ".py",
      "mimetype": "text/x-python",
      "name": "python",
      "nbconvert_exporter": "python",
      "pygments_lexer": "ipython3",
      "version": "3.7.3"
    },
    "colab": {
      "provenance": [],
      "include_colab_link": true
    },
    "widgets": {
      "application/vnd.jupyter.widget-state+json": {
        "e79b9e390eb14b989256a5d921995a84": {
          "model_module": "@jupyter-widgets/controls",
          "model_name": "HBoxModel",
          "model_module_version": "1.5.0",
          "state": {
            "_dom_classes": [],
            "_model_module": "@jupyter-widgets/controls",
            "_model_module_version": "1.5.0",
            "_model_name": "HBoxModel",
            "_view_count": null,
            "_view_module": "@jupyter-widgets/controls",
            "_view_module_version": "1.5.0",
            "_view_name": "HBoxView",
            "box_style": "",
            "children": [
              "IPY_MODEL_146301691bec4456b2c103657221ba33",
              "IPY_MODEL_a0d1e439079c44e8816a5b71b528264c",
              "IPY_MODEL_0ead17bcf71540309ac8f94c8ff7438e"
            ],
            "layout": "IPY_MODEL_02466c59d07447fa827b6ef646f17145"
          }
        },
        "146301691bec4456b2c103657221ba33": {
          "model_module": "@jupyter-widgets/controls",
          "model_name": "HTMLModel",
          "model_module_version": "1.5.0",
          "state": {
            "_dom_classes": [],
            "_model_module": "@jupyter-widgets/controls",
            "_model_module_version": "1.5.0",
            "_model_name": "HTMLModel",
            "_view_count": null,
            "_view_module": "@jupyter-widgets/controls",
            "_view_module_version": "1.5.0",
            "_view_name": "HTMLView",
            "description": "",
            "description_tooltip": null,
            "layout": "IPY_MODEL_81d638442dce46bfb6bc1202dfee8402",
            "placeholder": "​",
            "style": "IPY_MODEL_37770772ac5246de973e151e481674c9",
            "value": "  0%"
          }
        },
        "a0d1e439079c44e8816a5b71b528264c": {
          "model_module": "@jupyter-widgets/controls",
          "model_name": "FloatProgressModel",
          "model_module_version": "1.5.0",
          "state": {
            "_dom_classes": [],
            "_model_module": "@jupyter-widgets/controls",
            "_model_module_version": "1.5.0",
            "_model_name": "FloatProgressModel",
            "_view_count": null,
            "_view_module": "@jupyter-widgets/controls",
            "_view_module_version": "1.5.0",
            "_view_name": "ProgressView",
            "bar_style": "danger",
            "description": "",
            "description_tooltip": null,
            "layout": "IPY_MODEL_baa6f7f160f04783be3c361700f89350",
            "max": 1000000,
            "min": 0,
            "orientation": "horizontal",
            "style": "IPY_MODEL_79ed932045d940b68a61da294b67e381",
            "value": 4
          }
        },
        "0ead17bcf71540309ac8f94c8ff7438e": {
          "model_module": "@jupyter-widgets/controls",
          "model_name": "HTMLModel",
          "model_module_version": "1.5.0",
          "state": {
            "_dom_classes": [],
            "_model_module": "@jupyter-widgets/controls",
            "_model_module_version": "1.5.0",
            "_model_name": "HTMLModel",
            "_view_count": null,
            "_view_module": "@jupyter-widgets/controls",
            "_view_module_version": "1.5.0",
            "_view_name": "HTMLView",
            "description": "",
            "description_tooltip": null,
            "layout": "IPY_MODEL_14dc122f99584bd5b18d3e5e182722d4",
            "placeholder": "​",
            "style": "IPY_MODEL_d337ea798ab5447bb3398dc108149e6e",
            "value": " 4/1000000 [00:00&lt;40:33:14,  6.85it/s]"
          }
        },
        "02466c59d07447fa827b6ef646f17145": {
          "model_module": "@jupyter-widgets/base",
          "model_name": "LayoutModel",
          "model_module_version": "1.2.0",
          "state": {
            "_model_module": "@jupyter-widgets/base",
            "_model_module_version": "1.2.0",
            "_model_name": "LayoutModel",
            "_view_count": null,
            "_view_module": "@jupyter-widgets/base",
            "_view_module_version": "1.2.0",
            "_view_name": "LayoutView",
            "align_content": null,
            "align_items": null,
            "align_self": null,
            "border": null,
            "bottom": null,
            "display": null,
            "flex": null,
            "flex_flow": null,
            "grid_area": null,
            "grid_auto_columns": null,
            "grid_auto_flow": null,
            "grid_auto_rows": null,
            "grid_column": null,
            "grid_gap": null,
            "grid_row": null,
            "grid_template_areas": null,
            "grid_template_columns": null,
            "grid_template_rows": null,
            "height": null,
            "justify_content": null,
            "justify_items": null,
            "left": null,
            "margin": null,
            "max_height": null,
            "max_width": null,
            "min_height": null,
            "min_width": null,
            "object_fit": null,
            "object_position": null,
            "order": null,
            "overflow": null,
            "overflow_x": null,
            "overflow_y": null,
            "padding": null,
            "right": null,
            "top": null,
            "visibility": null,
            "width": null
          }
        },
        "81d638442dce46bfb6bc1202dfee8402": {
          "model_module": "@jupyter-widgets/base",
          "model_name": "LayoutModel",
          "model_module_version": "1.2.0",
          "state": {
            "_model_module": "@jupyter-widgets/base",
            "_model_module_version": "1.2.0",
            "_model_name": "LayoutModel",
            "_view_count": null,
            "_view_module": "@jupyter-widgets/base",
            "_view_module_version": "1.2.0",
            "_view_name": "LayoutView",
            "align_content": null,
            "align_items": null,
            "align_self": null,
            "border": null,
            "bottom": null,
            "display": null,
            "flex": null,
            "flex_flow": null,
            "grid_area": null,
            "grid_auto_columns": null,
            "grid_auto_flow": null,
            "grid_auto_rows": null,
            "grid_column": null,
            "grid_gap": null,
            "grid_row": null,
            "grid_template_areas": null,
            "grid_template_columns": null,
            "grid_template_rows": null,
            "height": null,
            "justify_content": null,
            "justify_items": null,
            "left": null,
            "margin": null,
            "max_height": null,
            "max_width": null,
            "min_height": null,
            "min_width": null,
            "object_fit": null,
            "object_position": null,
            "order": null,
            "overflow": null,
            "overflow_x": null,
            "overflow_y": null,
            "padding": null,
            "right": null,
            "top": null,
            "visibility": null,
            "width": null
          }
        },
        "37770772ac5246de973e151e481674c9": {
          "model_module": "@jupyter-widgets/controls",
          "model_name": "DescriptionStyleModel",
          "model_module_version": "1.5.0",
          "state": {
            "_model_module": "@jupyter-widgets/controls",
            "_model_module_version": "1.5.0",
            "_model_name": "DescriptionStyleModel",
            "_view_count": null,
            "_view_module": "@jupyter-widgets/base",
            "_view_module_version": "1.2.0",
            "_view_name": "StyleView",
            "description_width": ""
          }
        },
        "baa6f7f160f04783be3c361700f89350": {
          "model_module": "@jupyter-widgets/base",
          "model_name": "LayoutModel",
          "model_module_version": "1.2.0",
          "state": {
            "_model_module": "@jupyter-widgets/base",
            "_model_module_version": "1.2.0",
            "_model_name": "LayoutModel",
            "_view_count": null,
            "_view_module": "@jupyter-widgets/base",
            "_view_module_version": "1.2.0",
            "_view_name": "LayoutView",
            "align_content": null,
            "align_items": null,
            "align_self": null,
            "border": null,
            "bottom": null,
            "display": null,
            "flex": null,
            "flex_flow": null,
            "grid_area": null,
            "grid_auto_columns": null,
            "grid_auto_flow": null,
            "grid_auto_rows": null,
            "grid_column": null,
            "grid_gap": null,
            "grid_row": null,
            "grid_template_areas": null,
            "grid_template_columns": null,
            "grid_template_rows": null,
            "height": null,
            "justify_content": null,
            "justify_items": null,
            "left": null,
            "margin": null,
            "max_height": null,
            "max_width": null,
            "min_height": null,
            "min_width": null,
            "object_fit": null,
            "object_position": null,
            "order": null,
            "overflow": null,
            "overflow_x": null,
            "overflow_y": null,
            "padding": null,
            "right": null,
            "top": null,
            "visibility": null,
            "width": null
          }
        },
        "79ed932045d940b68a61da294b67e381": {
          "model_module": "@jupyter-widgets/controls",
          "model_name": "ProgressStyleModel",
          "model_module_version": "1.5.0",
          "state": {
            "_model_module": "@jupyter-widgets/controls",
            "_model_module_version": "1.5.0",
            "_model_name": "ProgressStyleModel",
            "_view_count": null,
            "_view_module": "@jupyter-widgets/base",
            "_view_module_version": "1.2.0",
            "_view_name": "StyleView",
            "bar_color": null,
            "description_width": ""
          }
        },
        "14dc122f99584bd5b18d3e5e182722d4": {
          "model_module": "@jupyter-widgets/base",
          "model_name": "LayoutModel",
          "model_module_version": "1.2.0",
          "state": {
            "_model_module": "@jupyter-widgets/base",
            "_model_module_version": "1.2.0",
            "_model_name": "LayoutModel",
            "_view_count": null,
            "_view_module": "@jupyter-widgets/base",
            "_view_module_version": "1.2.0",
            "_view_name": "LayoutView",
            "align_content": null,
            "align_items": null,
            "align_self": null,
            "border": null,
            "bottom": null,
            "display": null,
            "flex": null,
            "flex_flow": null,
            "grid_area": null,
            "grid_auto_columns": null,
            "grid_auto_flow": null,
            "grid_auto_rows": null,
            "grid_column": null,
            "grid_gap": null,
            "grid_row": null,
            "grid_template_areas": null,
            "grid_template_columns": null,
            "grid_template_rows": null,
            "height": null,
            "justify_content": null,
            "justify_items": null,
            "left": null,
            "margin": null,
            "max_height": null,
            "max_width": null,
            "min_height": null,
            "min_width": null,
            "object_fit": null,
            "object_position": null,
            "order": null,
            "overflow": null,
            "overflow_x": null,
            "overflow_y": null,
            "padding": null,
            "right": null,
            "top": null,
            "visibility": null,
            "width": null
          }
        },
        "d337ea798ab5447bb3398dc108149e6e": {
          "model_module": "@jupyter-widgets/controls",
          "model_name": "DescriptionStyleModel",
          "model_module_version": "1.5.0",
          "state": {
            "_model_module": "@jupyter-widgets/controls",
            "_model_module_version": "1.5.0",
            "_model_name": "DescriptionStyleModel",
            "_view_count": null,
            "_view_module": "@jupyter-widgets/base",
            "_view_module_version": "1.2.0",
            "_view_name": "StyleView",
            "description_width": ""
          }
        }
      }
    }
  },
  "nbformat": 4,
  "nbformat_minor": 0
}