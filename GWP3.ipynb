{
  "cells": [
    {
      "cell_type": "markdown",
      "metadata": {
        "id": "view-in-github",
        "colab_type": "text"
      },
      "source": [
        "<a href=\"https://colab.research.google.com/github/joew2k/WQU_ml_fin/blob/main/GWP3.ipynb\" target=\"_parent\"><img src=\"https://colab.research.google.com/assets/colab-badge.svg\" alt=\"Open In Colab\"/></a>"
      ]
    },
    {
      "cell_type": "markdown",
      "metadata": {
        "id": "3DZNmaDpJyYi"
      },
      "source": [
        "<h1 style='text-align: center;'>\n",
        "GWP_3 : Interpretation and Validation"
      ]
    },
    {
      "cell_type": "markdown",
      "metadata": {
        "id": "dKQXjZ_6JyYl"
      },
      "source": [
        "<p style='text-align: justify;'>\n",
        "GWP3 builds on the foundations of GWP1 and GWP2 by focusing on interpreting, validating, and refining the Hidden Markov Model (HMM) for market regime detection. This phase involves analyzing the transition probabilities between regimes, evaluating the emission probabilities to assess how well they capture market characteristics, and comparing the predicted regimes with real-world historical events such as the 2008 financial crisis and the COVID-19 market crash. Additionally, we refine the model by adjusting parameters, testing alternative feature sets, and incorporating Bayesian networks and hill climbing to improve accuracy. By the end of GWP3, we aim to have a fully validated and optimized HMM, providing deeper insights into its practical applications in financial forecasting and risk management.  \n",
        "\n"
      ]
    },
    {
      "cell_type": "markdown",
      "metadata": {
        "id": "wIQ9KPS1JyYm"
      },
      "source": [
        "## Step 1: Defining the Datasets for HMM Training, Validation, and Testing"
      ]
    },
    {
      "cell_type": "markdown",
      "metadata": {
        "id": "grmrtioCJyYm"
      },
      "source": [
        "In this step, we define the purpose of the three key datasets used in training the Hidden Markov Model (HMM) for market regime detection:  \n",
        "  \n",
        "* **Training Set** – Used to train the HMM and estimate model parameters.  \n",
        "* **Validation Set** – Used to tune hyperparameters and prevent overfitting.  \n",
        "* **Testing Set** – Used to evaluate model performance on unseen data.  \n",
        "  \n",
        "Each section provides a structured explanation, including mathematical concepts, Python implementation, and a final interpretation of the dataset's role.  "
      ]
    },
    {
      "cell_type": "markdown",
      "metadata": {
        "id": "Yej3LAqNJyYn"
      },
      "source": [
        "### Student A: Purpose of the Training Set  \n",
        "  \n",
        "The training set is the foundation of the HMM-based market regime detection model. It is used to estimate:\n",
        "- The state transition probabilities $(A)$,\n",
        "- The emission probabilities $(B)$,\n",
        "- The initial state distribution $( \\pi )$.\n",
        "\n",
        "A well-structured training set ensures that the model learns meaningful market patterns and can accurately classify future observations."
      ]
    },
    {
      "cell_type": "markdown",
      "metadata": {
        "id": "gQNPwTPgJyYo"
      },
      "source": [
        "#### Mathematical Definition of HMM Training  \n",
        "\n",
        "The HMM is trained by finding the optimal model parameters $ \\lambda = ( A, B, \\pi ) $ that maximize the likelihood of the observed market data:  \n",
        "  \n",
        "\\begin{equation}\n",
        "\\lambda^* = \\arg\\max_{\\lambda} P(O | \\lambda)\n",
        "\\end{equation}  \n",
        "  \n",
        "where:  \n",
        "- $ O = \\{O_1, O_2, ..., O_T\\} $ represents the sequence of observed market returns.  \n",
        "- $ A $ is the **state transition matrix**,  \n",
        "- $ B $ is the **emission probability matrix**,  \n",
        "- $ \\pi $ is the **initial state probability distribution**.  \n",
        "  \n",
        "The training process involves using the Baum-Welch algorithm (Expectation-Maximization for HMMs) to estimate these parameters."
      ]
    },
    {
      "cell_type": "markdown",
      "metadata": {
        "id": "vPuWcM87JyYo"
      },
      "source": [
        "#### Python Code for Training Set Preparation  "
      ]
    },
    {
      "cell_type": "code",
      "execution_count": 22,
      "metadata": {
        "id": "kC9iaXTWJyYp",
        "colab": {
          "base_uri": "https://localhost:8080/"
        },
        "outputId": "a118d074-9b03-44d3-c616-29deb43e5a8d"
      },
      "outputs": [
        {
          "output_type": "stream",
          "name": "stdout",
          "text": [
            "Collecting hmmlearn\n",
            "  Downloading hmmlearn-0.3.3-cp311-cp311-manylinux_2_17_x86_64.manylinux2014_x86_64.whl.metadata (3.0 kB)\n",
            "Requirement already satisfied: numpy>=1.10 in /usr/local/lib/python3.11/dist-packages (from hmmlearn) (1.26.4)\n",
            "Requirement already satisfied: scikit-learn!=0.22.0,>=0.16 in /usr/local/lib/python3.11/dist-packages (from hmmlearn) (1.6.1)\n",
            "Requirement already satisfied: scipy>=0.19 in /usr/local/lib/python3.11/dist-packages (from hmmlearn) (1.13.1)\n",
            "Requirement already satisfied: joblib>=1.2.0 in /usr/local/lib/python3.11/dist-packages (from scikit-learn!=0.22.0,>=0.16->hmmlearn) (1.4.2)\n",
            "Requirement already satisfied: threadpoolctl>=3.1.0 in /usr/local/lib/python3.11/dist-packages (from scikit-learn!=0.22.0,>=0.16->hmmlearn) (3.5.0)\n",
            "Downloading hmmlearn-0.3.3-cp311-cp311-manylinux_2_17_x86_64.manylinux2014_x86_64.whl (165 kB)\n",
            "\u001b[2K   \u001b[90m━━━━━━━━━━━━━━━━━━━━━━━━━━━━━━━━━━━━━━━━\u001b[0m \u001b[32m165.9/165.9 kB\u001b[0m \u001b[31m2.2 MB/s\u001b[0m eta \u001b[36m0:00:00\u001b[0m\n",
            "\u001b[?25hInstalling collected packages: hmmlearn\n",
            "Successfully installed hmmlearn-0.3.3\n"
          ]
        }
      ],
      "source": [
        "# Import Libraries\n",
        "import numpy as np\n",
        "import pandas as pd\n",
        "import yfinance as yf\n",
        "try:\n",
        "    from hmmlearn.hmm import GaussianHMM\n",
        "except ImportError:\n",
        "    !pip install hmmlearn\n",
        "    from hmmlearn.hmm import GaussianHMM\n",
        "from sklearn.preprocessing import StandardScaler"
      ]
    },
    {
      "cell_type": "code",
      "execution_count": 23,
      "metadata": {
        "id": "yGAUdSS5JyYq"
      },
      "outputs": [],
      "source": [
        "start_date = '2000-01-01'\n",
        "end_date = '2023-12-31'"
      ]
    },
    {
      "cell_type": "code",
      "execution_count": 24,
      "metadata": {
        "colab": {
          "base_uri": "https://localhost:8080/",
          "height": 115
        },
        "id": "Wt7RdHxQJyYq",
        "outputId": "6afe5097-7c2a-4898-d02b-d0707d67d10b"
      },
      "outputs": [
        {
          "output_type": "stream",
          "name": "stdout",
          "text": [
            "YF.download() has changed argument auto_adjust default to True\n"
          ]
        },
        {
          "output_type": "stream",
          "name": "stderr",
          "text": [
            "\r[*********************100%***********************]  1 of 1 completed\n"
          ]
        },
        {
          "output_type": "execute_result",
          "data": {
            "text/plain": [
              "GaussianHMM(covariance_type='full', n_components=3, n_iter=1000)"
            ],
            "text/html": [
              "<style>#sk-container-id-1 {\n",
              "  /* Definition of color scheme common for light and dark mode */\n",
              "  --sklearn-color-text: #000;\n",
              "  --sklearn-color-text-muted: #666;\n",
              "  --sklearn-color-line: gray;\n",
              "  /* Definition of color scheme for unfitted estimators */\n",
              "  --sklearn-color-unfitted-level-0: #fff5e6;\n",
              "  --sklearn-color-unfitted-level-1: #f6e4d2;\n",
              "  --sklearn-color-unfitted-level-2: #ffe0b3;\n",
              "  --sklearn-color-unfitted-level-3: chocolate;\n",
              "  /* Definition of color scheme for fitted estimators */\n",
              "  --sklearn-color-fitted-level-0: #f0f8ff;\n",
              "  --sklearn-color-fitted-level-1: #d4ebff;\n",
              "  --sklearn-color-fitted-level-2: #b3dbfd;\n",
              "  --sklearn-color-fitted-level-3: cornflowerblue;\n",
              "\n",
              "  /* Specific color for light theme */\n",
              "  --sklearn-color-text-on-default-background: var(--sg-text-color, var(--theme-code-foreground, var(--jp-content-font-color1, black)));\n",
              "  --sklearn-color-background: var(--sg-background-color, var(--theme-background, var(--jp-layout-color0, white)));\n",
              "  --sklearn-color-border-box: var(--sg-text-color, var(--theme-code-foreground, var(--jp-content-font-color1, black)));\n",
              "  --sklearn-color-icon: #696969;\n",
              "\n",
              "  @media (prefers-color-scheme: dark) {\n",
              "    /* Redefinition of color scheme for dark theme */\n",
              "    --sklearn-color-text-on-default-background: var(--sg-text-color, var(--theme-code-foreground, var(--jp-content-font-color1, white)));\n",
              "    --sklearn-color-background: var(--sg-background-color, var(--theme-background, var(--jp-layout-color0, #111)));\n",
              "    --sklearn-color-border-box: var(--sg-text-color, var(--theme-code-foreground, var(--jp-content-font-color1, white)));\n",
              "    --sklearn-color-icon: #878787;\n",
              "  }\n",
              "}\n",
              "\n",
              "#sk-container-id-1 {\n",
              "  color: var(--sklearn-color-text);\n",
              "}\n",
              "\n",
              "#sk-container-id-1 pre {\n",
              "  padding: 0;\n",
              "}\n",
              "\n",
              "#sk-container-id-1 input.sk-hidden--visually {\n",
              "  border: 0;\n",
              "  clip: rect(1px 1px 1px 1px);\n",
              "  clip: rect(1px, 1px, 1px, 1px);\n",
              "  height: 1px;\n",
              "  margin: -1px;\n",
              "  overflow: hidden;\n",
              "  padding: 0;\n",
              "  position: absolute;\n",
              "  width: 1px;\n",
              "}\n",
              "\n",
              "#sk-container-id-1 div.sk-dashed-wrapped {\n",
              "  border: 1px dashed var(--sklearn-color-line);\n",
              "  margin: 0 0.4em 0.5em 0.4em;\n",
              "  box-sizing: border-box;\n",
              "  padding-bottom: 0.4em;\n",
              "  background-color: var(--sklearn-color-background);\n",
              "}\n",
              "\n",
              "#sk-container-id-1 div.sk-container {\n",
              "  /* jupyter's `normalize.less` sets `[hidden] { display: none; }`\n",
              "     but bootstrap.min.css set `[hidden] { display: none !important; }`\n",
              "     so we also need the `!important` here to be able to override the\n",
              "     default hidden behavior on the sphinx rendered scikit-learn.org.\n",
              "     See: https://github.com/scikit-learn/scikit-learn/issues/21755 */\n",
              "  display: inline-block !important;\n",
              "  position: relative;\n",
              "}\n",
              "\n",
              "#sk-container-id-1 div.sk-text-repr-fallback {\n",
              "  display: none;\n",
              "}\n",
              "\n",
              "div.sk-parallel-item,\n",
              "div.sk-serial,\n",
              "div.sk-item {\n",
              "  /* draw centered vertical line to link estimators */\n",
              "  background-image: linear-gradient(var(--sklearn-color-text-on-default-background), var(--sklearn-color-text-on-default-background));\n",
              "  background-size: 2px 100%;\n",
              "  background-repeat: no-repeat;\n",
              "  background-position: center center;\n",
              "}\n",
              "\n",
              "/* Parallel-specific style estimator block */\n",
              "\n",
              "#sk-container-id-1 div.sk-parallel-item::after {\n",
              "  content: \"\";\n",
              "  width: 100%;\n",
              "  border-bottom: 2px solid var(--sklearn-color-text-on-default-background);\n",
              "  flex-grow: 1;\n",
              "}\n",
              "\n",
              "#sk-container-id-1 div.sk-parallel {\n",
              "  display: flex;\n",
              "  align-items: stretch;\n",
              "  justify-content: center;\n",
              "  background-color: var(--sklearn-color-background);\n",
              "  position: relative;\n",
              "}\n",
              "\n",
              "#sk-container-id-1 div.sk-parallel-item {\n",
              "  display: flex;\n",
              "  flex-direction: column;\n",
              "}\n",
              "\n",
              "#sk-container-id-1 div.sk-parallel-item:first-child::after {\n",
              "  align-self: flex-end;\n",
              "  width: 50%;\n",
              "}\n",
              "\n",
              "#sk-container-id-1 div.sk-parallel-item:last-child::after {\n",
              "  align-self: flex-start;\n",
              "  width: 50%;\n",
              "}\n",
              "\n",
              "#sk-container-id-1 div.sk-parallel-item:only-child::after {\n",
              "  width: 0;\n",
              "}\n",
              "\n",
              "/* Serial-specific style estimator block */\n",
              "\n",
              "#sk-container-id-1 div.sk-serial {\n",
              "  display: flex;\n",
              "  flex-direction: column;\n",
              "  align-items: center;\n",
              "  background-color: var(--sklearn-color-background);\n",
              "  padding-right: 1em;\n",
              "  padding-left: 1em;\n",
              "}\n",
              "\n",
              "\n",
              "/* Toggleable style: style used for estimator/Pipeline/ColumnTransformer box that is\n",
              "clickable and can be expanded/collapsed.\n",
              "- Pipeline and ColumnTransformer use this feature and define the default style\n",
              "- Estimators will overwrite some part of the style using the `sk-estimator` class\n",
              "*/\n",
              "\n",
              "/* Pipeline and ColumnTransformer style (default) */\n",
              "\n",
              "#sk-container-id-1 div.sk-toggleable {\n",
              "  /* Default theme specific background. It is overwritten whether we have a\n",
              "  specific estimator or a Pipeline/ColumnTransformer */\n",
              "  background-color: var(--sklearn-color-background);\n",
              "}\n",
              "\n",
              "/* Toggleable label */\n",
              "#sk-container-id-1 label.sk-toggleable__label {\n",
              "  cursor: pointer;\n",
              "  display: flex;\n",
              "  width: 100%;\n",
              "  margin-bottom: 0;\n",
              "  padding: 0.5em;\n",
              "  box-sizing: border-box;\n",
              "  text-align: center;\n",
              "  align-items: start;\n",
              "  justify-content: space-between;\n",
              "  gap: 0.5em;\n",
              "}\n",
              "\n",
              "#sk-container-id-1 label.sk-toggleable__label .caption {\n",
              "  font-size: 0.6rem;\n",
              "  font-weight: lighter;\n",
              "  color: var(--sklearn-color-text-muted);\n",
              "}\n",
              "\n",
              "#sk-container-id-1 label.sk-toggleable__label-arrow:before {\n",
              "  /* Arrow on the left of the label */\n",
              "  content: \"▸\";\n",
              "  float: left;\n",
              "  margin-right: 0.25em;\n",
              "  color: var(--sklearn-color-icon);\n",
              "}\n",
              "\n",
              "#sk-container-id-1 label.sk-toggleable__label-arrow:hover:before {\n",
              "  color: var(--sklearn-color-text);\n",
              "}\n",
              "\n",
              "/* Toggleable content - dropdown */\n",
              "\n",
              "#sk-container-id-1 div.sk-toggleable__content {\n",
              "  max-height: 0;\n",
              "  max-width: 0;\n",
              "  overflow: hidden;\n",
              "  text-align: left;\n",
              "  /* unfitted */\n",
              "  background-color: var(--sklearn-color-unfitted-level-0);\n",
              "}\n",
              "\n",
              "#sk-container-id-1 div.sk-toggleable__content.fitted {\n",
              "  /* fitted */\n",
              "  background-color: var(--sklearn-color-fitted-level-0);\n",
              "}\n",
              "\n",
              "#sk-container-id-1 div.sk-toggleable__content pre {\n",
              "  margin: 0.2em;\n",
              "  border-radius: 0.25em;\n",
              "  color: var(--sklearn-color-text);\n",
              "  /* unfitted */\n",
              "  background-color: var(--sklearn-color-unfitted-level-0);\n",
              "}\n",
              "\n",
              "#sk-container-id-1 div.sk-toggleable__content.fitted pre {\n",
              "  /* unfitted */\n",
              "  background-color: var(--sklearn-color-fitted-level-0);\n",
              "}\n",
              "\n",
              "#sk-container-id-1 input.sk-toggleable__control:checked~div.sk-toggleable__content {\n",
              "  /* Expand drop-down */\n",
              "  max-height: 200px;\n",
              "  max-width: 100%;\n",
              "  overflow: auto;\n",
              "}\n",
              "\n",
              "#sk-container-id-1 input.sk-toggleable__control:checked~label.sk-toggleable__label-arrow:before {\n",
              "  content: \"▾\";\n",
              "}\n",
              "\n",
              "/* Pipeline/ColumnTransformer-specific style */\n",
              "\n",
              "#sk-container-id-1 div.sk-label input.sk-toggleable__control:checked~label.sk-toggleable__label {\n",
              "  color: var(--sklearn-color-text);\n",
              "  background-color: var(--sklearn-color-unfitted-level-2);\n",
              "}\n",
              "\n",
              "#sk-container-id-1 div.sk-label.fitted input.sk-toggleable__control:checked~label.sk-toggleable__label {\n",
              "  background-color: var(--sklearn-color-fitted-level-2);\n",
              "}\n",
              "\n",
              "/* Estimator-specific style */\n",
              "\n",
              "/* Colorize estimator box */\n",
              "#sk-container-id-1 div.sk-estimator input.sk-toggleable__control:checked~label.sk-toggleable__label {\n",
              "  /* unfitted */\n",
              "  background-color: var(--sklearn-color-unfitted-level-2);\n",
              "}\n",
              "\n",
              "#sk-container-id-1 div.sk-estimator.fitted input.sk-toggleable__control:checked~label.sk-toggleable__label {\n",
              "  /* fitted */\n",
              "  background-color: var(--sklearn-color-fitted-level-2);\n",
              "}\n",
              "\n",
              "#sk-container-id-1 div.sk-label label.sk-toggleable__label,\n",
              "#sk-container-id-1 div.sk-label label {\n",
              "  /* The background is the default theme color */\n",
              "  color: var(--sklearn-color-text-on-default-background);\n",
              "}\n",
              "\n",
              "/* On hover, darken the color of the background */\n",
              "#sk-container-id-1 div.sk-label:hover label.sk-toggleable__label {\n",
              "  color: var(--sklearn-color-text);\n",
              "  background-color: var(--sklearn-color-unfitted-level-2);\n",
              "}\n",
              "\n",
              "/* Label box, darken color on hover, fitted */\n",
              "#sk-container-id-1 div.sk-label.fitted:hover label.sk-toggleable__label.fitted {\n",
              "  color: var(--sklearn-color-text);\n",
              "  background-color: var(--sklearn-color-fitted-level-2);\n",
              "}\n",
              "\n",
              "/* Estimator label */\n",
              "\n",
              "#sk-container-id-1 div.sk-label label {\n",
              "  font-family: monospace;\n",
              "  font-weight: bold;\n",
              "  display: inline-block;\n",
              "  line-height: 1.2em;\n",
              "}\n",
              "\n",
              "#sk-container-id-1 div.sk-label-container {\n",
              "  text-align: center;\n",
              "}\n",
              "\n",
              "/* Estimator-specific */\n",
              "#sk-container-id-1 div.sk-estimator {\n",
              "  font-family: monospace;\n",
              "  border: 1px dotted var(--sklearn-color-border-box);\n",
              "  border-radius: 0.25em;\n",
              "  box-sizing: border-box;\n",
              "  margin-bottom: 0.5em;\n",
              "  /* unfitted */\n",
              "  background-color: var(--sklearn-color-unfitted-level-0);\n",
              "}\n",
              "\n",
              "#sk-container-id-1 div.sk-estimator.fitted {\n",
              "  /* fitted */\n",
              "  background-color: var(--sklearn-color-fitted-level-0);\n",
              "}\n",
              "\n",
              "/* on hover */\n",
              "#sk-container-id-1 div.sk-estimator:hover {\n",
              "  /* unfitted */\n",
              "  background-color: var(--sklearn-color-unfitted-level-2);\n",
              "}\n",
              "\n",
              "#sk-container-id-1 div.sk-estimator.fitted:hover {\n",
              "  /* fitted */\n",
              "  background-color: var(--sklearn-color-fitted-level-2);\n",
              "}\n",
              "\n",
              "/* Specification for estimator info (e.g. \"i\" and \"?\") */\n",
              "\n",
              "/* Common style for \"i\" and \"?\" */\n",
              "\n",
              ".sk-estimator-doc-link,\n",
              "a:link.sk-estimator-doc-link,\n",
              "a:visited.sk-estimator-doc-link {\n",
              "  float: right;\n",
              "  font-size: smaller;\n",
              "  line-height: 1em;\n",
              "  font-family: monospace;\n",
              "  background-color: var(--sklearn-color-background);\n",
              "  border-radius: 1em;\n",
              "  height: 1em;\n",
              "  width: 1em;\n",
              "  text-decoration: none !important;\n",
              "  margin-left: 0.5em;\n",
              "  text-align: center;\n",
              "  /* unfitted */\n",
              "  border: var(--sklearn-color-unfitted-level-1) 1pt solid;\n",
              "  color: var(--sklearn-color-unfitted-level-1);\n",
              "}\n",
              "\n",
              ".sk-estimator-doc-link.fitted,\n",
              "a:link.sk-estimator-doc-link.fitted,\n",
              "a:visited.sk-estimator-doc-link.fitted {\n",
              "  /* fitted */\n",
              "  border: var(--sklearn-color-fitted-level-1) 1pt solid;\n",
              "  color: var(--sklearn-color-fitted-level-1);\n",
              "}\n",
              "\n",
              "/* On hover */\n",
              "div.sk-estimator:hover .sk-estimator-doc-link:hover,\n",
              ".sk-estimator-doc-link:hover,\n",
              "div.sk-label-container:hover .sk-estimator-doc-link:hover,\n",
              ".sk-estimator-doc-link:hover {\n",
              "  /* unfitted */\n",
              "  background-color: var(--sklearn-color-unfitted-level-3);\n",
              "  color: var(--sklearn-color-background);\n",
              "  text-decoration: none;\n",
              "}\n",
              "\n",
              "div.sk-estimator.fitted:hover .sk-estimator-doc-link.fitted:hover,\n",
              ".sk-estimator-doc-link.fitted:hover,\n",
              "div.sk-label-container:hover .sk-estimator-doc-link.fitted:hover,\n",
              ".sk-estimator-doc-link.fitted:hover {\n",
              "  /* fitted */\n",
              "  background-color: var(--sklearn-color-fitted-level-3);\n",
              "  color: var(--sklearn-color-background);\n",
              "  text-decoration: none;\n",
              "}\n",
              "\n",
              "/* Span, style for the box shown on hovering the info icon */\n",
              ".sk-estimator-doc-link span {\n",
              "  display: none;\n",
              "  z-index: 9999;\n",
              "  position: relative;\n",
              "  font-weight: normal;\n",
              "  right: .2ex;\n",
              "  padding: .5ex;\n",
              "  margin: .5ex;\n",
              "  width: min-content;\n",
              "  min-width: 20ex;\n",
              "  max-width: 50ex;\n",
              "  color: var(--sklearn-color-text);\n",
              "  box-shadow: 2pt 2pt 4pt #999;\n",
              "  /* unfitted */\n",
              "  background: var(--sklearn-color-unfitted-level-0);\n",
              "  border: .5pt solid var(--sklearn-color-unfitted-level-3);\n",
              "}\n",
              "\n",
              ".sk-estimator-doc-link.fitted span {\n",
              "  /* fitted */\n",
              "  background: var(--sklearn-color-fitted-level-0);\n",
              "  border: var(--sklearn-color-fitted-level-3);\n",
              "}\n",
              "\n",
              ".sk-estimator-doc-link:hover span {\n",
              "  display: block;\n",
              "}\n",
              "\n",
              "/* \"?\"-specific style due to the `<a>` HTML tag */\n",
              "\n",
              "#sk-container-id-1 a.estimator_doc_link {\n",
              "  float: right;\n",
              "  font-size: 1rem;\n",
              "  line-height: 1em;\n",
              "  font-family: monospace;\n",
              "  background-color: var(--sklearn-color-background);\n",
              "  border-radius: 1rem;\n",
              "  height: 1rem;\n",
              "  width: 1rem;\n",
              "  text-decoration: none;\n",
              "  /* unfitted */\n",
              "  color: var(--sklearn-color-unfitted-level-1);\n",
              "  border: var(--sklearn-color-unfitted-level-1) 1pt solid;\n",
              "}\n",
              "\n",
              "#sk-container-id-1 a.estimator_doc_link.fitted {\n",
              "  /* fitted */\n",
              "  border: var(--sklearn-color-fitted-level-1) 1pt solid;\n",
              "  color: var(--sklearn-color-fitted-level-1);\n",
              "}\n",
              "\n",
              "/* On hover */\n",
              "#sk-container-id-1 a.estimator_doc_link:hover {\n",
              "  /* unfitted */\n",
              "  background-color: var(--sklearn-color-unfitted-level-3);\n",
              "  color: var(--sklearn-color-background);\n",
              "  text-decoration: none;\n",
              "}\n",
              "\n",
              "#sk-container-id-1 a.estimator_doc_link.fitted:hover {\n",
              "  /* fitted */\n",
              "  background-color: var(--sklearn-color-fitted-level-3);\n",
              "}\n",
              "</style><div id=\"sk-container-id-1\" class=\"sk-top-container\"><div class=\"sk-text-repr-fallback\"><pre>GaussianHMM(covariance_type=&#x27;full&#x27;, n_components=3, n_iter=1000)</pre><b>In a Jupyter environment, please rerun this cell to show the HTML representation or trust the notebook. <br />On GitHub, the HTML representation is unable to render, please try loading this page with nbviewer.org.</b></div><div class=\"sk-container\" hidden><div class=\"sk-item\"><div class=\"sk-estimator fitted sk-toggleable\"><input class=\"sk-toggleable__control sk-hidden--visually\" id=\"sk-estimator-id-1\" type=\"checkbox\" checked><label for=\"sk-estimator-id-1\" class=\"sk-toggleable__label fitted sk-toggleable__label-arrow\"><div><div>GaussianHMM</div></div><div><span class=\"sk-estimator-doc-link fitted\">i<span>Fitted</span></span></div></label><div class=\"sk-toggleable__content fitted\"><pre>GaussianHMM(covariance_type=&#x27;full&#x27;, n_components=3, n_iter=1000)</pre></div> </div></div></div></div>"
            ]
          },
          "metadata": {},
          "execution_count": 24
        }
      ],
      "source": [
        "\n",
        "# Load historical data\n",
        "sp500 = yf.download(\"^GSPC\", start=start_date, end=end_date)['Close']\n",
        "returns = np.log(sp500 / sp500.shift(1)).dropna()\n",
        "\n",
        "# Split data into training (70%), validation (15%), and testing (15%)\n",
        "train_size = int(0.7 * len(returns))\n",
        "train_data = returns[:train_size]\n",
        "\n",
        "# Normalize data\n",
        "scaler = StandardScaler()\n",
        "train_X = scaler.fit_transform(train_data.values.reshape(-1,1))\n",
        "\n",
        "# Train HMM\n",
        "hmm = GaussianHMM(n_components=3, covariance_type=\"full\", n_iter=1000)\n",
        "hmm.fit(train_X)\n"
      ]
    },
    {
      "cell_type": "markdown",
      "metadata": {
        "id": "3Edhrn-fJyYs"
      },
      "source": [
        "The training set plays a crucial role in defining market regimes. If the training data is biased or too short, the model may fail to generalize. A well-structured training set ensures robust market regime identification."
      ]
    },
    {
      "cell_type": "markdown",
      "metadata": {
        "id": "nCXTHUVMJyYs"
      },
      "source": [
        "###  Student B: Purpose of the Validation Set  \n",
        "\n",
        "The validation set is used to fine-tune hyperparameters and prevent overfitting. Unlike the training set, it is not used to estimate model parameters but to evaluate and adjust them.\n",
        "\n",
        "Key aspects validated include:\n",
        "- Number of hidden states $( n )$ – Should we model 2, 3, or 4 regimes?\n",
        "- Covariance structure – Should the emissions be fully correlated (full) or independent (diag)?\n",
        "- Feature selection – Should we include additional macroeconomic indicators?"
      ]
    },
    {
      "cell_type": "markdown",
      "metadata": {
        "id": "adun9MbCJyYs"
      },
      "source": [
        "#### Hyperparameter Optimization Using Validation Set  \n",
        "  \n",
        "The best HMM configuration is selected by maximizing log-likelihood on the validation set:  \n",
        "\n",
        "\\begin{equation}\n",
        "\\lambda^* = \\arg\\max_{\\lambda} P(V | \\lambda)\n",
        "\\end{equation}  \n",
        "\n",
        "where $V$ is the validation set.\n",
        "\n",
        "We compare models using Bayesian Information Criterion (BIC):  \n",
        "\n",
        "\\begin{equation}\n",
        "BIC = k . log(N) - 2 . log (V | \\lambda)\n",
        "\\end{equation}  \n",
        "\n",
        "where:\n",
        "\n",
        "- $k$ is the number of model parameters,\n",
        "- $N$ is the number of observations in the validation set.\n",
        "\n",
        "A lower BIC suggests a better trade-off between model complexity and fit."
      ]
    },
    {
      "cell_type": "markdown",
      "metadata": {
        "id": "db0hS_cEJyYt"
      },
      "source": [
        "#### Python Code for Hyperparameter Tuning Using the Validation Set  "
      ]
    },
    {
      "cell_type": "code",
      "execution_count": 25,
      "metadata": {
        "id": "neRitsTGJyYt",
        "outputId": "9917e6b6-af3e-48fd-94a0-5b979f832b9c",
        "colab": {
          "base_uri": "https://localhost:8080/"
        }
      },
      "outputs": [
        {
          "output_type": "stream",
          "name": "stdout",
          "text": [
            "Optimal Model: 4 states, full covariance\n"
          ]
        }
      ],
      "source": [
        "# Select validation set (15% of data)\n",
        "val_data = returns[train_size:int(0.85 * len(returns))]\n",
        "val_X = scaler.transform(val_data.values.reshape(-1,1))\n",
        "\n",
        "# Test different HMM configurations\n",
        "best_model, best_bic = None, float(\"inf\")\n",
        "\n",
        "for n_components in range(2, 5):  # Testing 2 to 4 states\n",
        "    for covariance_type in [\"diag\", \"full\"]:  # Testing diagonal vs full covariance\n",
        "        hmm_test = GaussianHMM(n_components=n_components, covariance_type=covariance_type, n_iter=1000)\n",
        "        hmm_test.fit(train_X)\n",
        "\n",
        "        # Compute log-likelihood and BIC\n",
        "        log_likelihood = hmm_test.score(val_X)\n",
        "        bic = n_components * np.log(len(val_X)) - 2 * log_likelihood\n",
        "\n",
        "        if bic < best_bic:\n",
        "            best_bic, best_model = bic, hmm_test\n",
        "\n",
        "print(f\"Optimal Model: {best_model.n_components} states, {best_model.covariance_type} covariance\")\n"
      ]
    },
    {
      "cell_type": "markdown",
      "metadata": {
        "id": "kAv0_V1_JyYt"
      },
      "source": [
        "A well-structured validation set ensures the HMM is neither underfitting nor overfitting. If validation is skipped, the model might be too rigid (fails to adapt) or too flexible (overfits noise)."
      ]
    },
    {
      "cell_type": "markdown",
      "metadata": {
        "id": "flHPJfW_JyYt"
      },
      "source": [
        "### Student C: Purpose of the Testing Set  \n",
        "\n",
        "The testing set evaluates how well the trained HMM performs on new, unseen market data. This ensures that the model can generalize to future market conditions.\n",
        "\n",
        "Performance is measured using:\n",
        "- Log-likelihood on the test set – Measures how well the model explains new data.\n",
        "- Regime classification accuracy – Compares predicted regimes with historical market phases.\n",
        "- Mean squared error (MSE) in return forecasting – Evaluates predictive power."
      ]
    },
    {
      "cell_type": "markdown",
      "metadata": {
        "id": "wkh8BawNJyYu"
      },
      "source": [
        "#### Model Evaluation on the Test Set  \n",
        "\n",
        "The log-likelihood on the test set is computed as:\n",
        "\n",
        "\\begin{equation}\n",
        "log ( T | \\lambda ^* )\n",
        "\\end{equation}  \n",
        "\n",
        "where, $T$ represents the test data and $ \\lambda ^ * $ is the final trained HMM."
      ]
    },
    {
      "cell_type": "markdown",
      "metadata": {
        "id": "HNrR_CPTJyYu"
      },
      "source": [
        "#### Python Code for Testing HMM Performance"
      ]
    },
    {
      "cell_type": "code",
      "execution_count": 26,
      "metadata": {
        "id": "k1-RroceJyYu",
        "outputId": "816fc336-6032-4c4b-f257-71ea03cb8712",
        "colab": {
          "base_uri": "https://localhost:8080/"
        }
      },
      "outputs": [
        {
          "output_type": "stream",
          "name": "stdout",
          "text": [
            "Test Set Log-Likelihood: -1110.97\n",
            "Test Set Mean Squared Error (MSE): 0.086084\n"
          ]
        }
      ],
      "source": [
        "from sklearn.metrics import mean_squared_error\n",
        "\n",
        "# Select test set (last 15% of data)\n",
        "test_data = returns[int(0.85 * len(returns)):]\n",
        "test_X = scaler.transform(test_data.values.reshape(-1,1))\n",
        "\n",
        "# Evaluate model on test set\n",
        "test_log_likelihood = best_model.score(test_X)\n",
        "print(f\"Test Set Log-Likelihood: {test_log_likelihood:.2f}\")\n",
        "\n",
        "# Predict hidden states and compare to historical labels\n",
        "predicted_states = best_model.predict(test_X)\n",
        "\n",
        "# Compute mean squared error (MSE) for return forecasting\n",
        "mse = mean_squared_error(test_data, best_model.means_[predicted_states])\n",
        "print(f\"Test Set Mean Squared Error (MSE): {mse:.6f}\")\n"
      ]
    },
    {
      "cell_type": "markdown",
      "metadata": {
        "id": "JPLe3pr6JyYu"
      },
      "source": [
        "The testing set is the final checkpoint before deploying an HMM-based regime detection model. It ensures that the model performs well on new market conditions, reducing the risk of overfitting to historical data."
      ]
    },
    {
      "cell_type": "markdown",
      "metadata": {
        "id": "fwqFWxzzJyYu"
      },
      "source": [
        "## Step 2: Comparing the Validation and Testing Sets & Data Allocation  \n",
        "  \n",
        "<p style='text-align: justify;'>\n",
        "A well-structured data allocation strategy is essential for building a reliable Hidden Markov Model (HMM) for market regime detection. In this step, we compare the validation and testing sets, highlighting their roles in fine-tuning the model and assessing its real-world performance. We also provide a detailed breakdown of data allocation into training, validation, and testing subsets, ensuring that our approach maintains a balance between model learning, optimization, and evaluation.  \n",
        "  \n",
        "To ensure clarity, we will:\n",
        "- Define the purpose and distinction between validation and testing sets.\n",
        "- Analyze their statistical properties to determine similarities and differences.\n",
        "- Use mathematical expressions and Python implementations to illustrate data allocation.\n",
        "- Conclude with key takeaways for an optimal validation-testing strategy in financial modeling."
      ]
    },
    {
      "cell_type": "markdown",
      "metadata": {
        "id": "TxaS5cuYJyYv"
      },
      "source": [
        "### 1. Purpose and Differences Between Validation & Testing Sets  \n",
        "  \n",
        "#### 1.1. Validation Set: Fine-Tuning the Model  \n",
        "- The validation set is a portion of data not used for training but rather for tuning hyperparameters and preventing overfitting.  \n",
        "- This dataset helps optimize:\n",
        "    - The number of hidden states in HMM $(n)$\n",
        "    - The covariance structure (full vs. diagonal)\n",
        "    - The feature selection process  \n",
        "  \n",
        "Mathematically, the optimal model is selected based on the highest validation log-likelihood:  \n",
        "\n",
        "\\begin{equation}\n",
        "\\lambda^* = \\arg\\max_{\\lambda} P(V | \\lambda)\n",
        "\\end{equation}  \n",
        "\n",
        "where, $V$ represents the validation set observations and $\\lambda$ denotes the HMM parameters."
      ]
    },
    {
      "cell_type": "markdown",
      "metadata": {
        "id": "t4cUbmyyJyYv"
      },
      "source": [
        "#### 1.2. Testing Set: Evaluating Generalization  \n",
        "The testing set is an unseen dataset used to measure the final model’s accuracy and robustness.\n",
        "It is never used during training or validation, ensuring an objective evaluation of how well the model generalizes to future data.  \n",
        "\n",
        "A good testing set should:\n",
        "- Reflect real-world market conditions.\n",
        "- Have similar statistical properties to training/validation sets.\n",
        "- Provide meaningful insights into out-of-sample performance.  \n",
        "  \n",
        "The model performance is assessed using log-likelihood on the test set:  \n",
        "\n",
        "\\begin{equation}\n",
        "log P ( T | \\lambda ^* )\n",
        "\\end{equation}  \n",
        "\n",
        "where, $T$ represents the test dataset observations, and $\\lambda ^*$ is the final trained HMM.  "
      ]
    },
    {
      "cell_type": "markdown",
      "source": [
        "### 2. Allocating Data to Training, Validation, and Testing  \n",
        "\n",
        "A balanced split ensures that each dataset serves its intended purpose without data leakage or bias. The standard practice is:\n",
        "- 70% for Training – Used to estimate model parameters.\n",
        "- 15% for Validation – Used for hyperparameter tuning.\n",
        "- 15% for Testing – Used for final evaluation.  \n",
        "  \n",
        "#### 2.1. Python Implementation of Data Splitting  \n"
      ],
      "metadata": {
        "id": "KqQzYu2srMeb"
      }
    },
    {
      "cell_type": "code",
      "source": [
        "# Load market data (S&P 500)\n",
        "sp500 = yf.download(\"^GSPC\", start=start_date, end=end_date)['Close']\n",
        "returns = np.log(sp500 / sp500.shift(1)).dropna()\n",
        "\n",
        "# Define dataset sizes\n",
        "train_size = int(0.7 * len(returns))\n",
        "val_size = int(0.15 * len(returns))\n",
        "\n",
        "# Split data\n",
        "train_data = returns[:train_size]\n",
        "val_data = returns[train_size:train_size + val_size]\n",
        "test_data = returns[train_size + val_size:]\n",
        "\n",
        "# Normalize data\n",
        "scaler = StandardScaler()\n",
        "train_X = scaler.fit_transform(train_data.values.reshape(-1,1))\n",
        "val_X = scaler.transform(val_data.values.reshape(-1,1))\n",
        "test_X = scaler.transform(test_data.values.reshape(-1,1))\n",
        "\n",
        "# Display dataset sizes\n",
        "print(f\"Training Set: {train_data.shape[0]} samples\")\n",
        "print(f\"Validation Set: {val_data.shape[0]} samples\")\n",
        "print(f\"Testing Set: {test_data.shape[0]} samples\")\n"
      ],
      "metadata": {
        "id": "4Swx0mfOrYdL",
        "outputId": "874e70a2-5af7-4e51-be0a-18c080c86307",
        "colab": {
          "base_uri": "https://localhost:8080/"
        }
      },
      "execution_count": 27,
      "outputs": [
        {
          "output_type": "stream",
          "name": "stderr",
          "text": [
            "\r[*********************100%***********************]  1 of 1 completed"
          ]
        },
        {
          "output_type": "stream",
          "name": "stdout",
          "text": [
            "Training Set: 4225 samples\n",
            "Validation Set: 905 samples\n",
            "Testing Set: 906 samples\n"
          ]
        },
        {
          "output_type": "stream",
          "name": "stderr",
          "text": [
            "\n"
          ]
        }
      ]
    },
    {
      "cell_type": "markdown",
      "source": [
        "The reason, this split effective:\n",
        "\n",
        "- Training set is large enough to estimate robust model parameters.\n",
        "- Validation set is independent of training, ensuring fair hyperparameter tuning.\n",
        "- Testing set represents real-world, unseen data for objective performance evaluation."
      ],
      "metadata": {
        "id": "Hh7-csRirMob"
      }
    },
    {
      "cell_type": "markdown",
      "source": [
        "### 3. Statistical Comparison of Validation and Testing Sets  \n",
        "  \n",
        "To confirm that the validation and test sets are representative, we compare:\n",
        "- Mean returns – Should be close to training set mean.\n",
        "- Standard deviation – Ensures similar market volatility.\n",
        "- Distribution of returns – Avoids training bias.  \n",
        "  \n",
        "#### 3.1. Python Code for Statistical Comparison  \n"
      ],
      "metadata": {
        "id": "9Q1Vl9SwrMyS"
      }
    },
    {
      "cell_type": "code",
      "source": [
        "import matplotlib.pyplot as plt\n",
        "import seaborn as sns\n",
        "\n",
        "# Compute summary statistics\n",
        "summary_df = pd.DataFrame({\n",
        "    \"Training\": [train_data.mean(), train_data.std()],\n",
        "    \"Validation\": [val_data.mean(), val_data.std()],\n",
        "    \"Testing\": [test_data.mean(), test_data.std()]\n",
        "}, index=[\"Mean Return\", \"Standard Deviation\"])\n",
        "\n",
        "print(summary_df)\n",
        "\n",
        "# Visualize distributions\n",
        "plt.figure(figsize=(12,6))\n",
        "sns.kdeplot(train_data, label=\"Training Set\", color=\"blue\", fill=True)\n",
        "sns.kdeplot(val_data, label=\"Validation Set\", color=\"green\", fill=True)\n",
        "sns.kdeplot(test_data, label=\"Testing Set\", color=\"red\", fill=True)\n",
        "\n",
        "plt.title(\"Distribution of Log Returns Across Datasets\")\n",
        "plt.xlabel(\"Log Returns\")\n",
        "plt.ylabel(\"Density\")\n",
        "plt.legend()\n",
        "plt.show()\n"
      ],
      "metadata": {
        "id": "ADOC0l2Arhtr",
        "outputId": "e6803f23-9779-4443-dd9f-8984a1a38ef1",
        "colab": {
          "base_uri": "https://localhost:8080/",
          "height": 963
        }
      },
      "execution_count": 28,
      "outputs": [
        {
          "output_type": "stream",
          "name": "stdout",
          "text": [
            "                                                   Training  \\\n",
            "Mean Return         Ticker\n",
            "^GSPC    0.000091\n",
            "dtype: float64   \n",
            "Standard Deviation   Ticker\n",
            "^GSPC    0.01251\n",
            "dtype: float64   \n",
            "\n",
            "                                                 Validation  \\\n",
            "Mean Return          Ticker\n",
            "^GSPC    0.00037\n",
            "dtype: float64   \n",
            "Standard Deviation  Ticker\n",
            "^GSPC    0.012854\n",
            "dtype: float64   \n",
            "\n",
            "                                                    Testing  \n",
            "Mean Return         Ticker\n",
            "^GSPC    0.000515\n",
            "dtype: float64  \n",
            "Standard Deviation  Ticker\n",
            "^GSPC    0.011236\n",
            "dtype: float64  \n"
          ]
        },
        {
          "output_type": "display_data",
          "data": {
            "text/plain": [
              "<Figure size 1200x600 with 1 Axes>"
            ],
            "image/png": "[encoded data removed]"
          },
          "metadata": {}
        }
      ]
    },
    {
      "cell_type": "markdown",
      "source": [
        "As it suggests,  \n",
        "- If distributions are similar, the model is well-structured.\n",
        "- If validation/test sets deviate significantly, the model may struggle with generalization."
      ],
      "metadata": {
        "id": "iRRbcASzrM6j"
      }
    },
    {
      "cell_type": "markdown",
      "metadata": {
        "id": "xw-42MOFJyYv"
      },
      "source": [
        "### 4. Evaluating Model Performance on Validation vs. Testing Sets  \n",
        "  \n",
        "#### 4.1. Compute Log-Likelihood on Both Sets  \n",
        "  "
      ]
    },
    {
      "cell_type": "code",
      "source": [
        "# Train HMM on Training Set\n",
        "hmm = GaussianHMM(n_components=3, covariance_type=\"full\", n_iter=1000)\n",
        "hmm.fit(train_X)\n",
        "\n",
        "# Compute log-likelihood on validation and test sets\n",
        "val_log_likelihood = hmm.score(val_X)\n",
        "test_log_likelihood = hmm.score(test_X)\n",
        "\n",
        "print(f\"Validation Set Log-Likelihood: {val_log_likelihood:.2f}\")\n",
        "print(f\"Testing Set Log-Likelihood: {test_log_likelihood:.2f}\")\n"
      ],
      "metadata": {
        "id": "CEuy0crurqgh",
        "outputId": "269d28a8-5202-4766-dac2-bf987b56997b",
        "colab": {
          "base_uri": "https://localhost:8080/"
        }
      },
      "execution_count": 29,
      "outputs": [
        {
          "output_type": "stream",
          "name": "stdout",
          "text": [
            "Validation Set Log-Likelihood: -924.89\n",
            "Testing Set Log-Likelihood: -1123.70\n"
          ]
        }
      ]
    },
    {
      "cell_type": "markdown",
      "metadata": {
        "id": "YHP1U7_IJyYv"
      },
      "source": [
        "**Interpretation:**  \n",
        "- Higher log-likelihood on validation means the model fits well.\n",
        "- If test log-likelihood is much lower, the model overfits the validation set."
      ]
    },
    {
      "cell_type": "markdown",
      "metadata": {
        "id": "Aah2yXwjJyYv"
      },
      "source": [
        "### 5. Key Takeaways & Conclusion  \n",
        "  \n",
        "#### 5.1. Key Insights  \n",
        "- Validation and testing sets serve different but complementary roles.\n",
        "- A proper data split (70-15-15) ensures training effectiveness and testing fairness.\n",
        "- Statistical comparison ensures validation/test sets reflect real-world conditions.\n",
        "- If the test set log-likelihood drops significantly, the model may be overfitting.  \n",
        "  \n",
        "#### 5.2. How to Improve Model Performance?  \n",
        "\n",
        "- If validation and test distributions differ significantly:\n",
        "    - Use a rolling window split instead of fixed periods.\n",
        "    - Increase feature diversity (e.g., volatility, trading volume).  \n",
        "- If test log-likelihood is much lower than validation:\n",
        "    - Reduce overfitting by using regularization techniques in training.\n",
        "    - Increase training data size if possible.  \n",
        "\n",
        "By carefully structuring training, validation, and testing datasets, we ensure that the HMM market regime model is robust, generalizable, and reliable for financial forecasting."
      ]
    },
    {
      "cell_type": "code",
      "source": [
        "\n",
        "import pandas as pd\n",
        "import numpy as np\n",
        "from fredapi import Fred\n",
        "# FRED API key\n",
        "fred_key = \"d9c82da3cdb79ee5a73dc3c06f1efe72\";\n",
        "# Initiates a session with the FRED datacenter to recieve datasets\n",
        "fred = Fred(api_key=fred_key);"
      ],
      "metadata": {
        "id": "H-Z5knx-JwGF"
      },
      "execution_count": 49,
      "outputs": []
    },
    {
      "cell_type": "code",
      "source": [
        "pip install EIA_python"
      ],
      "metadata": {
        "colab": {
          "base_uri": "https://localhost:8080/"
        },
        "id": "hlygc06HKByr",
        "outputId": "414b88fd-cd1f-4b34-b4a6-4aa33ad55545"
      },
      "execution_count": 31,
      "outputs": [
        {
          "output_type": "stream",
          "name": "stdout",
          "text": [
            "Requirement already satisfied: EIA_python in /usr/local/lib/python3.11/dist-packages (1.22)\n"
          ]
        }
      ]
    },
    {
      "cell_type": "code",
      "source": [
        "import eia\n",
        "eia_key = \"t5gPk3of678ynyBTdY2eAiThNX6hFe0hiia2xGEe\"\n",
        "eia_api = eia.API(eia_key)"
      ],
      "metadata": {
        "id": "wAjSRq5wJwIj"
      },
      "execution_count": 32,
      "outputs": []
    },
    {
      "cell_type": "code",
      "source": [
        "eia_data = pd.DataFrame(eia_api.data_by_keyword(keyword=['crude oil'],\n",
        "                                     filters_to_keep=['COEXPUS'],\n",
        "                                     rows=1000));\n",
        "eia_data"
      ],
      "metadata": {
        "colab": {
          "base_uri": "https://localhost:8080/",
          "height": 89
        },
        "id": "MQL5bNAkOeNJ",
        "outputId": "6ad47041-dc45-4cb7-9cdd-fc3bc7f12210"
      },
      "execution_count": 33,
      "outputs": [
        {
          "output_type": "execute_result",
          "data": {
            "text/plain": [
              "Empty DataFrame\n",
              "Columns: []\n",
              "Index: []"
            ],
            "text/html": [
              "\n",
              "  <div id=\"df-cc24b11b-9746-44f6-b672-7bb5977369d3\" class=\"colab-df-container\">\n",
              "    <div>\n",
              "<style scoped>\n",
              "    .dataframe tbody tr th:only-of-type {\n",
              "        vertical-align: middle;\n",
              "    }\n",
              "\n",
              "    .dataframe tbody tr th {\n",
              "        vertical-align: top;\n",
              "    }\n",
              "\n",
              "    .dataframe thead th {\n",
              "        text-align: right;\n",
              "    }\n",
              "</style>\n",
              "<table border=\"1\" class=\"dataframe\">\n",
              "  <thead>\n",
              "    <tr style=\"text-align: right;\">\n",
              "      <th></th>\n",
              "    </tr>\n",
              "  </thead>\n",
              "  <tbody>\n",
              "  </tbody>\n",
              "</table>\n",
              "</div>\n",
              "    <div class=\"colab-df-buttons\">\n",
              "\n",
              "  <div class=\"colab-df-container\">\n",
              "    <button class=\"colab-df-convert\" onclick=\"convertToInteractive('df-cc24b11b-9746-44f6-b672-7bb5977369d3')\"\n",
              "            title=\"Convert this dataframe to an interactive table.\"\n",
              "            style=\"display:none;\">\n",
              "\n",
              "  <svg xmlns=\"http://www.w3.org/2000/svg\" height=\"24px\" viewBox=\"0 -960 960 960\">\n",
              "    <path d=\"M120-120v-720h720v720H120Zm60-500h600v-160H180v160Zm220 220h160v-160H400v160Zm0 220h160v-160H400v160ZM180-400h160v-160H180v160Zm440 0h160v-160H620v160ZM180-180h160v-160H180v160Zm440 0h160v-160H620v160Z\"/>\n",
              "  </svg>\n",
              "    </button>\n",
              "\n",
              "  <style>\n",
              "    .colab-df-container {\n",
              "      display:flex;\n",
              "      gap: 12px;\n",
              "    }\n",
              "\n",
              "    .colab-df-convert {\n",
              "      background-color: #E8F0FE;\n",
              "      border: none;\n",
              "      border-radius: 50%;\n",
              "      cursor: pointer;\n",
              "      display: none;\n",
              "      fill: #1967D2;\n",
              "      height: 32px;\n",
              "      padding: 0 0 0 0;\n",
              "      width: 32px;\n",
              "    }\n",
              "\n",
              "    .colab-df-convert:hover {\n",
              "      background-color: #E2EBFA;\n",
              "      box-shadow: 0px 1px 2px rgba(60, 64, 67, 0.3), 0px 1px 3px 1px rgba(60, 64, 67, 0.15);\n",
              "      fill: #174EA6;\n",
              "    }\n",
              "\n",
              "    .colab-df-buttons div {\n",
              "      margin-bottom: 4px;\n",
              "    }\n",
              "\n",
              "    [theme=dark] .colab-df-convert {\n",
              "      background-color: #3B4455;\n",
              "      fill: #D2E3FC;\n",
              "    }\n",
              "\n",
              "    [theme=dark] .colab-df-convert:hover {\n",
              "      background-color: #434B5C;\n",
              "      box-shadow: 0px 1px 3px 1px rgba(0, 0, 0, 0.15);\n",
              "      filter: drop-shadow(0px 1px 2px rgba(0, 0, 0, 0.3));\n",
              "      fill: #FFFFFF;\n",
              "    }\n",
              "  </style>\n",
              "\n",
              "    <script>\n",
              "      const buttonEl =\n",
              "        document.querySelector('#df-cc24b11b-9746-44f6-b672-7bb5977369d3 button.colab-df-convert');\n",
              "      buttonEl.style.display =\n",
              "        google.colab.kernel.accessAllowed ? 'block' : 'none';\n",
              "\n",
              "      async function convertToInteractive(key) {\n",
              "        const element = document.querySelector('#df-cc24b11b-9746-44f6-b672-7bb5977369d3');\n",
              "        const dataTable =\n",
              "          await google.colab.kernel.invokeFunction('convertToInteractive',\n",
              "                                                    [key], {});\n",
              "        if (!dataTable) return;\n",
              "\n",
              "        const docLinkHtml = 'Like what you see? Visit the ' +\n",
              "          '<a target=\"_blank\" href=https://colab.research.google.com/notebooks/data_table.ipynb>data table notebook</a>'\n",
              "          + ' to learn more about interactive tables.';\n",
              "        element.innerHTML = '';\n",
              "        dataTable['output_type'] = 'display_data';\n",
              "        await google.colab.output.renderOutput(dataTable, element);\n",
              "        const docLink = document.createElement('div');\n",
              "        docLink.innerHTML = docLinkHtml;\n",
              "        element.appendChild(docLink);\n",
              "      }\n",
              "    </script>\n",
              "  </div>\n",
              "\n",
              "\n",
              "  <div id=\"id_f7374604-1f14-43c0-88e8-e9c3c1756693\">\n",
              "    <style>\n",
              "      .colab-df-generate {\n",
              "        background-color: #E8F0FE;\n",
              "        border: none;\n",
              "        border-radius: 50%;\n",
              "        cursor: pointer;\n",
              "        display: none;\n",
              "        fill: #1967D2;\n",
              "        height: 32px;\n",
              "        padding: 0 0 0 0;\n",
              "        width: 32px;\n",
              "      }\n",
              "\n",
              "      .colab-df-generate:hover {\n",
              "        background-color: #E2EBFA;\n",
              "        box-shadow: 0px 1px 2px rgba(60, 64, 67, 0.3), 0px 1px 3px 1px rgba(60, 64, 67, 0.15);\n",
              "        fill: #174EA6;\n",
              "      }\n",
              "\n",
              "      [theme=dark] .colab-df-generate {\n",
              "        background-color: #3B4455;\n",
              "        fill: #D2E3FC;\n",
              "      }\n",
              "\n",
              "      [theme=dark] .colab-df-generate:hover {\n",
              "        background-color: #434B5C;\n",
              "        box-shadow: 0px 1px 3px 1px rgba(0, 0, 0, 0.15);\n",
              "        filter: drop-shadow(0px 1px 2px rgba(0, 0, 0, 0.3));\n",
              "        fill: #FFFFFF;\n",
              "      }\n",
              "    </style>\n",
              "    <button class=\"colab-df-generate\" onclick=\"generateWithVariable('eia_data')\"\n",
              "            title=\"Generate code using this dataframe.\"\n",
              "            style=\"display:none;\">\n",
              "\n",
              "  <svg xmlns=\"http://www.w3.org/2000/svg\" height=\"24px\"viewBox=\"0 0 24 24\"\n",
              "       width=\"24px\">\n",
              "    <path d=\"M7,19H8.4L18.45,9,17,7.55,7,17.6ZM5,21V16.75L18.45,3.32a2,2,0,0,1,2.83,0l1.4,1.43a1.91,1.91,0,0,1,.58,1.4,1.91,1.91,0,0,1-.58,1.4L9.25,21ZM18.45,9,17,7.55Zm-12,3A5.31,5.31,0,0,0,4.9,8.1,5.31,5.31,0,0,0,1,6.5,5.31,5.31,0,0,0,4.9,4.9,5.31,5.31,0,0,0,6.5,1,5.31,5.31,0,0,0,8.1,4.9,5.31,5.31,0,0,0,12,6.5,5.46,5.46,0,0,0,6.5,12Z\"/>\n",
              "  </svg>\n",
              "    </button>\n",
              "    <script>\n",
              "      (() => {\n",
              "      const buttonEl =\n",
              "        document.querySelector('#id_f7374604-1f14-43c0-88e8-e9c3c1756693 button.colab-df-generate');\n",
              "      buttonEl.style.display =\n",
              "        google.colab.kernel.accessAllowed ? 'block' : 'none';\n",
              "\n",
              "      buttonEl.onclick = () => {\n",
              "        google.colab.notebook.generateWithVariable('eia_data');\n",
              "      }\n",
              "      })();\n",
              "    </script>\n",
              "  </div>\n",
              "\n",
              "    </div>\n",
              "  </div>\n"
            ],
            "application/vnd.google.colaboratory.intrinsic+json": {
              "type": "dataframe",
              "variable_name": "eia_data",
              "summary": "{\n  \"name\": \"eia_data\",\n  \"rows\": 0,\n  \"fields\": []\n}"
            }
          },
          "metadata": {},
          "execution_count": 33
        }
      ]
    },
    {
      "cell_type": "code",
      "source": [],
      "metadata": {
        "id": "F2PzRHhp76Gk"
      },
      "execution_count": 52,
      "outputs": []
    },
    {
      "cell_type": "code",
      "source": [
        "import datetime # Using the datetime library\n",
        "def convert_to_datetime(input):\n",
        "  return datetime.datetime.strptime(input[:9], \"%Y %m \").date();\n",
        "eia_data.index = eia_data.index.map(convert_to_datetime);\n",
        "eia_data.index = pd.to_datetime(eia_data.index);\n",
        "eia_data.columns #= ['TOTAL.COEXPUS.M'];"
      ],
      "metadata": {
        "colab": {
          "base_uri": "https://localhost:8080/"
        },
        "collapsed": true,
        "id": "al5CNyZGOp7y",
        "outputId": "fb939efd-e85c-41fa-e6f7-446041e493e9"
      },
      "execution_count": 34,
      "outputs": [
        {
          "output_type": "execute_result",
          "data": {
            "text/plain": [
              "RangeIndex(start=0, stop=0, step=1)"
            ]
          },
          "metadata": {},
          "execution_count": 34
        }
      ]
    },
    {
      "cell_type": "code",
      "source": [
        "datasets_eia = [\n",
        "'STEO.RGDPQ_NONOECD.M',\n",
        "'STEO.RGDPQ_OECD.M',\n",
        "'STEO.PAPR_NONOPEC.M',\n",
        "'STEO.PAPR_OPEC.M',\n",
        "'STEO.PATC_OECD.M',\n",
        "'STEO.PATC_NON_OECD.M',\n",
        "'STEO.COPRPUS.M',\n",
        "'STEO.CORIPUS.M',\n",
        "'PET.MCRIMXX2.M',\n",
        "'STEO.FOREX_WORLD.M',\n",
        "'STEO.PASC_OECD_T3.M',\n",
        "'STEO.COPS_OPEC.M',\n",
        "'STEO.COPC_OPEC.M',\n",
        "'STEO.T3_STCHANGE_OOECD.M',\n",
        "'STEO.T3_STCHANGE_NOECD.M',\n",
        "];"
      ],
      "metadata": {
        "id": "0S2ropWENW_1"
      },
      "execution_count": 35,
      "outputs": []
    },
    {
      "cell_type": "code",
      "source": [
        "import datetime\n",
        "def clean_EIA(data):\n",
        "  data.replace('-', np.nan, regex=True, inplace=True);\n",
        "  data.fillna(method='bfill', inplace=True);\n",
        "  data.index = data.index.map(convert_to_datetime);\n",
        "  data.index = pd.to_datetime(data.index);"
      ],
      "metadata": {
        "id": "Gh5Hi9CFNf-E"
      },
      "execution_count": 36,
      "outputs": []
    },
    {
      "cell_type": "code",
      "source": [
        "data_merge = []\n",
        "for series_id in datasets_eia:\n",
        "  data = eia_api.data_by_keyword(series_id)\n",
        "  # Check if data is not empty before creating DataFrame and assigning columns\n",
        "  if data:\n",
        "    df = pd.DataFrame(data)\n",
        "    clean_EIA(df)\n",
        "    df.columns = [series_id]\n",
        "    data_merge.append(df)\n",
        "  else:\n",
        "    print(f\"Warning: No data found for series_id: {series_id}\")\n"
      ],
      "metadata": {
        "colab": {
          "base_uri": "https://localhost:8080/"
        },
        "collapsed": true,
        "id": "fhe2SVlJNYv4",
        "outputId": "712736fb-a017-488e-a0f1-b8d7cafcfc56"
      },
      "execution_count": 52,
      "outputs": [
        {
          "output_type": "stream",
          "name": "stdout",
          "text": [
            "Warning: No data found for series_id: STEO.RGDPQ_NONOECD.M\n",
            "Warning: No data found for series_id: STEO.RGDPQ_OECD.M\n",
            "Warning: No data found for series_id: STEO.PAPR_NONOPEC.M\n",
            "Warning: No data found for series_id: STEO.PAPR_OPEC.M\n",
            "Warning: No data found for series_id: STEO.PATC_OECD.M\n",
            "Warning: No data found for series_id: STEO.PATC_NON_OECD.M\n",
            "Warning: No data found for series_id: STEO.COPRPUS.M\n",
            "Warning: No data found for series_id: STEO.CORIPUS.M\n",
            "Warning: No data found for series_id: PET.MCRIMXX2.M\n",
            "Warning: No data found for series_id: STEO.FOREX_WORLD.M\n",
            "Warning: No data found for series_id: STEO.PASC_OECD_T3.M\n",
            "Warning: No data found for series_id: STEO.COPS_OPEC.M\n",
            "Warning: No data found for series_id: STEO.COPC_OPEC.M\n",
            "Warning: No data found for series_id: STEO.T3_STCHANGE_OOECD.M\n",
            "Warning: No data found for series_id: STEO.T3_STCHANGE_NOECD.M\n"
          ]
        }
      ]
    },
    {
      "source": [
        "datasets_eia = ['STEO.RGDPQ_NONOECD.M',\n",
        "                'STEO.RGDPQ_OECD.M',\n",
        "                'STEO.PAPR_NONOPEC.M',\n",
        "                'STEO.PAPR_OPEC.M',\n",
        "                'STEO.PATC_OECD.M',\n",
        "                'STEO.PATC_NON_OECD.M',\n",
        "                'STEO.COPRPUS.M',\n",
        "                'STEO.CORIPUS.M',\n",
        "                'PET.MCRIMXX2.M',\n",
        "                'STEO.FOREX_WORLD.M',\n",
        "                'STEO.PASC_OECD_T3.M',\n",
        "                'STEO.COPS_OPEC.M',\n",
        "                'STEO.COPC_OPEC.M',\n",
        "                'STEO.T3_STCHANGE_OOECD.M',\n",
        "                'STEO.T3_STCHANGE_NOECD.M',\n",
        "]\n",
        "\n",
        "datasets_fred = ['CPIENGSL',\n",
        "                 'CAPG211S',\n",
        "                 'CAPUTLG211S',\n",
        "                 'IPG211S',\n",
        "                 'IPG211111CN',\n",
        "                 'INDPRO',\n",
        "                 'IPN213111N',\n",
        "                 'PCU211211',\n",
        "]\n",
        "data_merge = []; # List of dataframes to be concatenated\n",
        "\n",
        "# Adding EIA datasets\n",
        "for series_id in datasets_eia:\n",
        "    # Check if the series ID is valid and data is returned\n",
        "    try:\n",
        "        data = eia_api.data_by_series(series=series_id)\n",
        "        if data:  # Check if the 'series' key exists in the response\n",
        "            df = pd.DataFrame(data)\n",
        "            clean_EIA(df); df.columns = [series_id];\n",
        "            data_merge.append(df)\n",
        "        else:\n",
        "            print(f\"Warning: No data found for series_id: {series_id}\")\n",
        "    except KeyError as e:\n",
        "        print(f\"Error retrieving data for series_id: {series_id}, Error: {e}\")\n",
        "        # Handle the error, e.g., skip the series or try a different API call\n",
        "\n",
        "# Adding FRED datasets\n",
        "for series_id in datasets_fred:\n",
        "    df = pd.DataFrame(fred.get_series(series_id), columns=[series_id]);\n",
        "    data_merge.append(df);\n",
        "datasets = datasets_eia + datasets_fred + ['WTISPLC', 'forecast'];\n",
        "current = pd.DataFrame(fred.get_series('WTISPLC'), columns=['WTISPLC']);\n",
        "forecast = pd.DataFrame(fred.get_series('WTISPLC').shift(-1), columns=['forecast']);\n",
        "data_merge.append(current);\n",
        "data_merge.append(forecast);\n",
        "\n",
        "data = pd.concat(data_merge, axis=1, join='inner');\n",
        "\n",
        "train_data = data[: int(data.shape[0] * 0.80)];\n",
        "vald_data = data[int(0.80 * data.shape[0]) : int(0.90 * data.shape[0])];\n",
        "test_data = data[int(0.90* data.shape[0]) : int(data.shape[0])];"
      ],
      "cell_type": "code",
      "metadata": {
        "colab": {
          "base_uri": "https://localhost:8080/"
        },
        "id": "rnZXkuahBEtG",
        "outputId": "625fa934-fabb-4234-a571-5bf1bb9098c3"
      },
      "execution_count": 51,
      "outputs": [
        {
          "output_type": "stream",
          "name": "stdout",
          "text": [
            "Error retrieving data for series_id: STEO.RGDPQ_NONOECD.M, Error: 'series'\n",
            "Error retrieving data for series_id: STEO.RGDPQ_OECD.M, Error: 'series'\n",
            "Error retrieving data for series_id: STEO.PAPR_NONOPEC.M, Error: 'series'\n",
            "Error retrieving data for series_id: STEO.PAPR_OPEC.M, Error: 'series'\n",
            "Error retrieving data for series_id: STEO.PATC_OECD.M, Error: 'series'\n",
            "Error retrieving data for series_id: STEO.PATC_NON_OECD.M, Error: 'series'\n",
            "Error retrieving data for series_id: STEO.COPRPUS.M, Error: 'series'\n",
            "Error retrieving data for series_id: STEO.CORIPUS.M, Error: 'series'\n",
            "Error retrieving data for series_id: PET.MCRIMXX2.M, Error: 'series'\n",
            "Error retrieving data for series_id: STEO.FOREX_WORLD.M, Error: 'series'\n",
            "Error retrieving data for series_id: STEO.PASC_OECD_T3.M, Error: 'series'\n",
            "Error retrieving data for series_id: STEO.COPS_OPEC.M, Error: 'series'\n",
            "Error retrieving data for series_id: STEO.COPC_OPEC.M, Error: 'series'\n",
            "Error retrieving data for series_id: STEO.T3_STCHANGE_OOECD.M, Error: 'series'\n",
            "Error retrieving data for series_id: STEO.T3_STCHANGE_NOECD.M, Error: 'series'\n"
          ]
        }
      ]
    },
    {
      "cell_type": "code",
      "source": [],
      "metadata": {
        "id": "2FlFXcww69D0"
      },
      "execution_count": null,
      "outputs": []
    }
  ],
  "metadata": {
    "kernelspec": {
      "display_name": "Python 3",
      "language": "python",
      "name": "python3"
    },
    "language_info": {
      "codemirror_mode": {
        "name": "ipython",
        "version": 3
      },
      "file_extension": ".py",
      "mimetype": "text/x-python",
      "name": "python",
      "nbconvert_exporter": "python",
      "pygments_lexer": "ipython3",
      "version": "3.7.3"
    },
    "colab": {
      "provenance": [],
      "include_colab_link": true
    }
  },
  "nbformat": 4,
  "nbformat_minor": 0
}